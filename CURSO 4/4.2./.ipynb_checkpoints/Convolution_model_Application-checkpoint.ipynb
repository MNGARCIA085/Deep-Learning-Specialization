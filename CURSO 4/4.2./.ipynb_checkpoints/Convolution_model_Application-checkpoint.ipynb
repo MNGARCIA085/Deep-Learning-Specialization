{
 "cells": [
  {
   "cell_type": "markdown",
   "metadata": {
    "pycharm": {
     "name": "#%% md\n"
    }
   },
   "source": [
    "# Convolutional Neural Networks: Application\n",
    "\n",
    "Welcome to Course 4's second assignment! In this notebook, you will:\n",
    "\n",
    "- Create a mood classifer using the TF Keras Sequential API\n",
    "- Build a ConvNet to identify sign language digits using the TF Keras Functional API\n",
    "\n",
    "**After this assignment you will be able to:**\n",
    "\n",
    "- Build and train a ConvNet in TensorFlow for a __binary__ classification problem\n",
    "- Build and train a ConvNet in TensorFlow for a __multiclass__ classification problem\n",
    "- Explain different use cases for the Sequential and Functional APIs\n",
    "\n",
    "To complete this assignment, you should already be familiar with TensorFlow. If you are not, please refer back to the **TensorFlow Tutorial** of the third week of Course 2 (\"**Improving deep neural networks**\").\n",
    "\n",
    "## Important Note on Submission to the AutoGrader\n",
    "\n",
    "Before submitting your assignment to the AutoGrader, please make sure you are not doing the following:\n",
    "\n",
    "1. You have not added any _extra_ `print` statement(s) in the assignment.\n",
    "2. You have not added any _extra_ code cell(s) in the assignment.\n",
    "3. You have not changed any of the function parameters.\n",
    "4. You are not using any global variables inside your graded exercises. Unless specifically instructed to do so, please refrain from it and use the local variables instead.\n",
    "5. You are not changing the assignment code where it is not required, like creating _extra_ variables.\n",
    "\n",
    "If you do any of the following, you will get something like, `Grader not found` (or similarly unexpected) error upon submitting your assignment. Before asking for help/debugging the errors in your assignment, check for these first. If this is the case, and you don't remember the changes you have made, you can get a fresh copy of the assignment by following these [instructions](https://www.coursera.org/learn/convolutional-neural-networks/supplement/DS4yP/h-ow-to-refresh-your-workspace)."
   ]
  },
  {
   "cell_type": "markdown",
   "metadata": {
    "pycharm": {
     "name": "#%% md\n"
    }
   },
   "source": [
    "## Table of Contents\n",
    "\n",
    "- [1 - Packages](#1)\n",
    "    - [1.1 - Load the Data and Split the Data into Train/Test Sets](#1-1)\n",
    "- [2 - Layers in TF Keras](#2)\n",
    "- [3 - The Sequential API](#3)\n",
    "    - [3.1 - Create the Sequential Model](#3-1)\n",
    "        - [Exercise 1 - happyModel](#ex-1)\n",
    "    - [3.2 - Train and Evaluate the Model](#3-2)\n",
    "- [4 - The Functional API](#4)\n",
    "    - [4.1 - Load the SIGNS Dataset](#4-1)\n",
    "    - [4.2 - Split the Data into Train/Test Sets](#4-2)\n",
    "    - [4.3 - Forward Propagation](#4-3)\n",
    "        - [Exercise 2 - convolutional_model](#ex-2)\n",
    "    - [4.4 - Train the Model](#4-4)\n",
    "- [5 - History Object](#5)\n",
    "- [6 - Bibliography](#6)"
   ]
  },
  {
   "cell_type": "markdown",
   "metadata": {
    "pycharm": {
     "name": "#%% md\n"
    }
   },
   "source": [
    "<a name='1'></a>\n",
    "## 1 - Packages\n",
    "\n",
    "As usual, begin by loading in the packages."
   ]
  },
  {
   "cell_type": "code",
   "execution_count": 1,
   "metadata": {
    "pycharm": {
     "name": "#%%\n"
    }
   },
   "outputs": [
    {
     "name": "stderr",
     "output_type": "stream",
     "text": [
      "2023-04-19 15:13:44.316484: I tensorflow/core/platform/cpu_feature_guard.cc:193] This TensorFlow binary is optimized with oneAPI Deep Neural Network Library (oneDNN) to use the following CPU instructions in performance-critical operations:  AVX2 FMA\n",
      "To enable them in other operations, rebuild TensorFlow with the appropriate compiler flags.\n",
      "2023-04-19 15:13:45.072030: W tensorflow/compiler/xla/stream_executor/platform/default/dso_loader.cc:64] Could not load dynamic library 'libcudart.so.11.0'; dlerror: libcudart.so.11.0: cannot open shared object file: No such file or directory\n",
      "2023-04-19 15:13:45.072053: I tensorflow/compiler/xla/stream_executor/cuda/cudart_stub.cc:29] Ignore above cudart dlerror if you do not have a GPU set up on your machine.\n",
      "2023-04-19 15:13:46.982006: W tensorflow/compiler/xla/stream_executor/platform/default/dso_loader.cc:64] Could not load dynamic library 'libnvinfer.so.7'; dlerror: libnvinfer.so.7: cannot open shared object file: No such file or directory\n",
      "2023-04-19 15:13:46.982174: W tensorflow/compiler/xla/stream_executor/platform/default/dso_loader.cc:64] Could not load dynamic library 'libnvinfer_plugin.so.7'; dlerror: libnvinfer_plugin.so.7: cannot open shared object file: No such file or directory\n",
      "2023-04-19 15:13:46.982184: W tensorflow/compiler/tf2tensorrt/utils/py_utils.cc:38] TF-TRT Warning: Cannot dlopen some TensorRT libraries. If you would like to use Nvidia GPU with TensorRT, please make sure the missing libraries mentioned above are installed properly.\n"
     ]
    }
   ],
   "source": [
    "import math\n",
    "import numpy as np\n",
    "import h5py\n",
    "import matplotlib.pyplot as plt\n",
    "from matplotlib.pyplot import imread\n",
    "import scipy\n",
    "from PIL import Image\n",
    "import pandas as pd\n",
    "import tensorflow as tf\n",
    "import tensorflow.keras.layers as tfl\n",
    "from tensorflow.python.framework import ops\n",
    "from cnn_utils import *\n",
    "from test_utils import summary, comparator\n",
    "\n",
    "%matplotlib inline\n",
    "np.random.seed(1)"
   ]
  },
  {
   "cell_type": "markdown",
   "metadata": {
    "pycharm": {
     "name": "#%% md\n"
    }
   },
   "source": [
    "<a name='1-1'></a>\n",
    "### 1.1 - Load the Data and Split the Data into Train/Test Sets\n",
    "\n",
    "You'll be using the Happy House dataset for this part of the assignment, which contains images of peoples' faces. Your task will be to build a ConvNet that determines whether the people in the images are smiling or not -- because they only get to enter the house if they're smiling!  "
   ]
  },
  {
   "cell_type": "code",
   "execution_count": 2,
   "metadata": {
    "pycharm": {
     "name": "#%%\n"
    }
   },
   "outputs": [
    {
     "name": "stdout",
     "output_type": "stream",
     "text": [
      "number of training examples = 600\n",
      "number of test examples = 150\n",
      "X_train shape: (600, 64, 64, 3)\n",
      "Y_train shape: (600, 1)\n",
      "X_test shape: (150, 64, 64, 3)\n",
      "Y_test shape: (150, 1)\n"
     ]
    }
   ],
   "source": [
    "X_train_orig, Y_train_orig, X_test_orig, Y_test_orig, classes = load_happy_dataset()\n",
    "\n",
    "# Normalize image vectors\n",
    "X_train = X_train_orig/255.\n",
    "X_test = X_test_orig/255.\n",
    "\n",
    "\n",
    "# Reshape\n",
    "Y_train = Y_train_orig.T\n",
    "Y_test = Y_test_orig.T\n",
    "\n",
    "print (\"number of training examples = \" + str(X_train.shape[0]))\n",
    "print (\"number of test examples = \" + str(X_test.shape[0]))\n",
    "print (\"X_train shape: \" + str(X_train.shape))\n",
    "print (\"Y_train shape: \" + str(Y_train.shape))\n",
    "print (\"X_test shape: \" + str(X_test.shape))\n",
    "print (\"Y_test shape: \" + str(Y_test.shape))"
   ]
  },
  {
   "cell_type": "markdown",
   "metadata": {
    "pycharm": {
     "name": "#%% md\n"
    }
   },
   "source": [
    "You can display the images contained in the dataset. Images are **64x64** pixels in RGB format (3 channels)."
   ]
  },
  {
   "cell_type": "code",
   "execution_count": 3,
   "metadata": {
    "pycharm": {
     "name": "#%%\n"
    }
   },
   "outputs": [
    {
     "data": {
      "image/png": "[encoded data removed]",
      "text/plain": [
       "<Figure size 640x480 with 1 Axes>"
      ]
     },
     "metadata": {},
     "output_type": "display_data"
    }
   ],
   "source": [
    "index = 5\n",
    "plt.imshow(X_train_orig[index]) #display sample training image\n",
    "plt.show()"
   ]
  },
  {
   "cell_type": "markdown",
   "metadata": {
    "pycharm": {
     "name": "#%% md\n"
    }
   },
   "source": [
    "<a name='2'></a>\n",
    "## 2 - Layers in TF Keras \n",
    "\n",
    "In the previous assignment, you created layers manually in numpy. In TF Keras, you don't have to write code directly to create layers. Rather, TF Keras has pre-defined layers you can use. \n",
    "\n",
    "When you create a layer in TF Keras, you are creating a function that takes some input and transforms it into an output you can reuse later. Nice and easy! "
   ]
  },
  {
   "cell_type": "markdown",
   "metadata": {
    "pycharm": {
     "name": "#%% md\n"
    }
   },
   "source": [
    "<a name='3'></a>\n",
    "## 3 - The Sequential API\n",
    "\n",
    "In the previous assignment, you built helper functions using `numpy` to understand the mechanics behind convolutional neural networks. Most practical applications of deep learning today are built using programming frameworks, which have many built-in functions you can simply call. Keras is a high-level abstraction built on top of TensorFlow, which allows for even more simplified and optimized model creation and training. \n",
    "\n",
    "For the first part of this assignment, you'll create a model using TF Keras' Sequential API, which allows you to build layer by layer, and is ideal for building models where each layer has **exactly one** input tensor and **one** output tensor. \n",
    "\n",
    "As you'll see, using the Sequential API is simple and straightforward, but is only appropriate for simpler, more straightforward tasks. Later in this notebook you'll spend some time building with a more flexible, powerful alternative: the Functional API. \n",
    " "
   ]
  },
  {
   "cell_type": "markdown",
   "metadata": {
    "pycharm": {
     "name": "#%% md\n"
    }
   },
   "source": [
    "<a name='3-1'></a>\n",
    "### 3.1 - Create the Sequential Model\n",
    "\n",
    "As mentioned earlier, the TensorFlow Keras Sequential API can be used to build simple models with layer operations that proceed in a sequential order. \n",
    "\n",
    "You can also add layers incrementally to a Sequential model with the `.add()` method, or remove them using the `.pop()` method, much like you would in a regular Python list.\n",
    "\n",
    "Actually, you can think of a Sequential model as behaving like a list of layers. Like Python lists, Sequential layers are ordered, and the order in which they are specified matters.  If your model is non-linear or contains layers with multiple inputs or outputs, a Sequential model wouldn't be the right choice!\n",
    "\n",
    "For any layer construction in Keras, you'll need to specify the input shape in advance. This is because in Keras, the shape of the weights is based on the shape of the inputs. The weights are only created when the model first sees some input data. Sequential models can be created by passing a list of layers to the Sequential constructor, like you will do in the next assignment.\n",
    "\n",
    "<a name='ex-1'></a>\n",
    "### Exercise 1 - happyModel\n",
    "\n",
    "Implement the `happyModel` function below to build the following model: `ZEROPAD2D -> CONV2D -> BATCHNORM -> RELU -> MAXPOOL -> FLATTEN -> DENSE`. Take help from [tf.keras.layers](https://www.tensorflow.org/api_docs/python/tf/keras/layers) \n",
    "\n",
    "Also, plug in the following parameters for all the steps:\n",
    "\n",
    " - [ZeroPadding2D](https://www.tensorflow.org/api_docs/python/tf/keras/layers/ZeroPadding2D): padding 3, input shape 64 x 64 x 3\n",
    " - [Conv2D](https://www.tensorflow.org/api_docs/python/tf/keras/layers/Conv2D): Use 32 7x7 filters, stride 1\n",
    " - [BatchNormalization](https://www.tensorflow.org/api_docs/python/tf/keras/layers/BatchNormalization): for axis 3\n",
    " - [ReLU](https://www.tensorflow.org/api_docs/python/tf/keras/layers/ReLU)\n",
    " - [MaxPool2D](https://www.tensorflow.org/api_docs/python/tf/keras/layers/MaxPool2D): Using default parameters\n",
    " - [Flatten](https://www.tensorflow.org/api_docs/python/tf/keras/layers/Flatten) the previous output.\n",
    " - Fully-connected ([Dense](https://www.tensorflow.org/api_docs/python/tf/keras/layers/Dense)) layer: Apply a fully connected layer with 1 neuron and a sigmoid activation. \n",
    " \n",
    " \n",
    " **Hint:**\n",
    " \n",
    " Use **tfl** as shorthand for **tensorflow.keras.layers**"
   ]
  },
  {
   "cell_type": "code",
   "execution_count": 4,
   "metadata": {
    "deletable": false,
    "nbgrader": {
     "cell_type": "code",
     "checksum": "95d28b191f257bdd5b70c7b8952559d5",
     "grade": false,
     "grade_id": "cell-0e56d3fc28b69aec",
     "locked": false,
     "schema_version": 3,
     "solution": true,
     "task": false
    },
    "pycharm": {
     "name": "#%%\n"
    }
   },
   "outputs": [],
   "source": [
    "# GRADED FUNCTION: happyModel\n",
    "\n",
    "def happyModel():\n",
    "    \"\"\"\n",
    "    Implements the forward propagation for the binary classification model:\n",
    "    ZEROPAD2D -> CONV2D -> BATCHNORM -> RELU -> MAXPOOL -> FLATTEN -> DENSE\n",
    "    \n",
    "    Note that for simplicity and grading purposes, you'll hard-code all the values\n",
    "    such as the stride and kernel (filter) sizes. \n",
    "    Normally, functions should take these values as function parameters.\n",
    "    \n",
    "    Arguments:\n",
    "    None\n",
    "\n",
    "    Returns:\n",
    "    model -- TF Keras model (object containing the information for the entire training process) \n",
    "    \"\"\"\n",
    "    model = tf.keras.Sequential([\n",
    "            ## ZeroPadding2D with padding 3, input shape of 64 x 64 x 3\n",
    "            tfl.ZeroPadding2D(padding=(3, 3), input_shape=(64, 64, 3)),\n",
    "            ## Conv2D with 32 7x7 filters and stride of 1\n",
    "            tfl.Conv2D(32, (7,7)),\n",
    "            ## BatchNormalization for axis 3\n",
    "            tfl.BatchNormalization(axis=-1),\n",
    "            ## ReLU\n",
    "            tfl.ReLU(),\n",
    "            ## Max Pooling 2D with default parameters\n",
    "            tfl.MaxPool2D(),\n",
    "            ## Flatten layer\n",
    "            tfl.Flatten(),\n",
    "            ## Dense layer with 1 unit for output & 'sigmoid' activation\n",
    "            tfl.Dense(1, activation='sigmoid')\n",
    "            # YOUR CODE STARTS HERE\n",
    "            \n",
    "            \n",
    "            # YOUR CODE ENDS HERE\n",
    "        ])\n",
    "    \n",
    "    return model"
   ]
  },
  {
   "cell_type": "code",
   "execution_count": 5,
   "metadata": {
    "deletable": false,
    "editable": false,
    "nbgrader": {
     "cell_type": "code",
     "checksum": "8d3575c950e2e78149be2d05d671c80d",
     "grade": true,
     "grade_id": "cell-e3e1046e5c33d775",
     "locked": true,
     "points": 10,
     "schema_version": 3,
     "solution": false,
     "task": false
    },
    "pycharm": {
     "name": "#%%\n"
    }
   },
   "outputs": [
    {
     "name": "stdout",
     "output_type": "stream",
     "text": [
      "['ZeroPadding2D', (None, 70, 70, 3), 0, ((3, 3), (3, 3))]\n",
      "['Conv2D', (None, 64, 64, 32), 4736, 'valid', 'linear', 'GlorotUniform']\n",
      "['BatchNormalization', (None, 64, 64, 32), 128]\n",
      "['ReLU', (None, 64, 64, 32), 0]\n",
      "['MaxPooling2D', (None, 32, 32, 32), 0, (2, 2), (2, 2), 'valid']\n",
      "['Flatten', (None, 32768), 0]\n",
      "['Dense', (None, 1), 32769, 'sigmoid']\n",
      "All tests passed!\n"
     ]
    },
    {
     "name": "stderr",
     "output_type": "stream",
     "text": [
      "2023-04-19 15:13:49.423035: W tensorflow/compiler/xla/stream_executor/platform/default/dso_loader.cc:64] Could not load dynamic library 'libcuda.so.1'; dlerror: libcuda.so.1: cannot open shared object file: No such file or directory\n",
      "2023-04-19 15:13:49.423062: W tensorflow/compiler/xla/stream_executor/cuda/cuda_driver.cc:265] failed call to cuInit: UNKNOWN ERROR (303)\n",
      "2023-04-19 15:13:49.423081: I tensorflow/compiler/xla/stream_executor/cuda/cuda_diagnostics.cc:156] kernel driver does not appear to be running on this host (marcos-HP-ProDesk-600-G1-SFF): /proc/driver/nvidia/version does not exist\n",
      "2023-04-19 15:13:49.429081: I tensorflow/core/platform/cpu_feature_guard.cc:193] This TensorFlow binary is optimized with oneAPI Deep Neural Network Library (oneDNN) to use the following CPU instructions in performance-critical operations:  AVX2 FMA\n",
      "To enable them in other operations, rebuild TensorFlow with the appropriate compiler flags.\n"
     ]
    }
   ],
   "source": [
    "happy_model = happyModel()\n",
    "# Print a summary for each layer\n",
    "for layer in summary(happy_model):\n",
    "    print(layer)\n",
    "    \n",
    "output = [['ZeroPadding2D', (None, 70, 70, 3), 0, ((3, 3), (3, 3))],\n",
    "            ['Conv2D', (None, 64, 64, 32), 4736, 'valid', 'linear', 'GlorotUniform'],\n",
    "            ['BatchNormalization', (None, 64, 64, 32), 128],\n",
    "            ['ReLU', (None, 64, 64, 32), 0],\n",
    "            ['MaxPooling2D', (None, 32, 32, 32), 0, (2, 2), (2, 2), 'valid'],\n",
    "            ['Flatten', (None, 32768), 0],\n",
    "            ['Dense', (None, 1), 32769, 'sigmoid']]\n",
    "    \n",
    "comparator(summary(happy_model), output)"
   ]
  },
  {
   "cell_type": "markdown",
   "metadata": {
    "pycharm": {
     "name": "#%% md\n"
    }
   },
   "source": [
    "Now that your model is created, you can compile it for training with an optimizer and loss of your choice. When the string `accuracy` is specified as a metric, the type of accuracy used will be automatically converted based on the loss function used. This is one of the many optimizations built into TensorFlow that make your life easier! If you'd like to read more on how the compiler operates, check the docs [here](https://www.tensorflow.org/api_docs/python/tf/keras/Model#compile)."
   ]
  },
  {
   "cell_type": "code",
   "execution_count": 6,
   "metadata": {
    "pycharm": {
     "name": "#%%\n"
    }
   },
   "outputs": [],
   "source": [
    "happy_model.compile(optimizer='adam',\n",
    "                   loss='binary_crossentropy',\n",
    "                   metrics=['accuracy'])"
   ]
  },
  {
   "cell_type": "markdown",
   "metadata": {
    "pycharm": {
     "name": "#%% md\n"
    }
   },
   "source": [
    "It's time to check your model's parameters with the `.summary()` method. This will display the types of layers you have, the shape of the outputs, and how many parameters are in each layer. "
   ]
  },
  {
   "cell_type": "code",
   "execution_count": 7,
   "metadata": {
    "pycharm": {
     "name": "#%%\n"
    }
   },
   "outputs": [
    {
     "name": "stdout",
     "output_type": "stream",
     "text": [
      "Model: \"sequential\"\n",
      "_________________________________________________________________\n",
      " Layer (type)                Output Shape              Param #   \n",
      "=================================================================\n",
      " zero_padding2d (ZeroPadding  (None, 70, 70, 3)        0         \n",
      " 2D)                                                             \n",
      "                                                                 \n",
      " conv2d (Conv2D)             (None, 64, 64, 32)        4736      \n",
      "                                                                 \n",
      " batch_normalization (BatchN  (None, 64, 64, 32)       128       \n",
      " ormalization)                                                   \n",
      "                                                                 \n",
      " re_lu (ReLU)                (None, 64, 64, 32)        0         \n",
      "                                                                 \n",
      " max_pooling2d (MaxPooling2D  (None, 32, 32, 32)       0         \n",
      " )                                                               \n",
      "                                                                 \n",
      " flatten (Flatten)           (None, 32768)             0         \n",
      "                                                                 \n",
      " dense (Dense)               (None, 1)                 32769     \n",
      "                                                                 \n",
      "=================================================================\n",
      "Total params: 37,633\n",
      "Trainable params: 37,569\n",
      "Non-trainable params: 64\n",
      "_________________________________________________________________\n"
     ]
    }
   ],
   "source": [
    "happy_model.summary()"
   ]
  },
  {
   "cell_type": "markdown",
   "metadata": {
    "pycharm": {
     "name": "#%% md\n"
    }
   },
   "source": [
    "<a name='3-2'></a>\n",
    "### 3.2 - Train and Evaluate the Model\n",
    "\n",
    "After creating the model, compiling it with your choice of optimizer and loss function, and doing a sanity check on its contents, you are now ready to build! \n",
    "\n",
    "Simply call `.fit()` to train. That's it! No need for mini-batching, saving, or complex backpropagation computations. That's all been done for you, as you're using a TensorFlow dataset with the batches specified already. You do have the option to specify epoch number or minibatch size if you like (for example, in the case of an un-batched dataset)."
   ]
  },
  {
   "cell_type": "code",
   "execution_count": 8,
   "metadata": {
    "pycharm": {
     "name": "#%%\n"
    }
   },
   "outputs": [
    {
     "name": "stdout",
     "output_type": "stream",
     "text": [
      "Epoch 1/10\n"
     ]
    },
    {
     "name": "stderr",
     "output_type": "stream",
     "text": [
      "2023-04-19 15:13:49.787850: W tensorflow/tsl/framework/cpu_allocator_impl.cc:82] Allocation of 29491200 exceeds 10% of free system memory.\n"
     ]
    },
    {
     "name": "stdout",
     "output_type": "stream",
     "text": [
      "\r",
      " 1/38 [..............................] - ETA: 36s - loss: 0.6542 - accuracy: 0.6250"
     ]
    },
    {
     "name": "stderr",
     "output_type": "stream",
     "text": [
      "2023-04-19 15:13:50.871669: W tensorflow/tsl/framework/cpu_allocator_impl.cc:82] Allocation of 26492928 exceeds 10% of free system memory.\n"
     ]
    },
    {
     "name": "stdout",
     "output_type": "stream",
     "text": [
      " 4/38 [==>...........................] - ETA: 3s - loss: 3.2843 - accuracy: 0.5156"
     ]
    },
    {
     "name": "stderr",
     "output_type": "stream",
     "text": [
      "2023-04-19 15:13:51.124211: W tensorflow/tsl/framework/cpu_allocator_impl.cc:82] Allocation of 26492928 exceeds 10% of free system memory.\n",
      "2023-04-19 15:13:51.188626: W tensorflow/tsl/framework/cpu_allocator_impl.cc:82] Allocation of 26492928 exceeds 10% of free system memory.\n",
      "2023-04-19 15:13:51.255343: W tensorflow/tsl/framework/cpu_allocator_impl.cc:82] Allocation of 26492928 exceeds 10% of free system memory.\n"
     ]
    },
    {
     "name": "stdout",
     "output_type": "stream",
     "text": [
      "38/38 [==============================] - 3s 62ms/step - loss: 1.4319 - accuracy: 0.6850\n",
      "Epoch 2/10\n",
      "38/38 [==============================] - 3s 66ms/step - loss: 0.1985 - accuracy: 0.9183\n",
      "Epoch 3/10\n",
      "38/38 [==============================] - 3s 75ms/step - loss: 0.1488 - accuracy: 0.9467\n",
      "Epoch 4/10\n",
      "38/38 [==============================] - 2s 62ms/step - loss: 0.1378 - accuracy: 0.9500\n",
      "Epoch 5/10\n",
      "38/38 [==============================] - 2s 63ms/step - loss: 0.1251 - accuracy: 0.9433\n",
      "Epoch 6/10\n",
      "38/38 [==============================] - 2s 61ms/step - loss: 0.1955 - accuracy: 0.9267\n",
      "Epoch 7/10\n",
      "38/38 [==============================] - 2s 61ms/step - loss: 0.0892 - accuracy: 0.9650\n",
      "Epoch 8/10\n",
      "38/38 [==============================] - 2s 61ms/step - loss: 0.0812 - accuracy: 0.9750\n",
      "Epoch 9/10\n",
      "38/38 [==============================] - 3s 69ms/step - loss: 0.0638 - accuracy: 0.9833\n",
      "Epoch 10/10\n",
      "38/38 [==============================] - 2s 62ms/step - loss: 0.0881 - accuracy: 0.9733\n"
     ]
    },
    {
     "data": {
      "text/plain": [
       "<keras.callbacks.History at 0x7f1051db67d0>"
      ]
     },
     "execution_count": 8,
     "metadata": {},
     "output_type": "execute_result"
    }
   ],
   "source": [
    "happy_model.fit(X_train, Y_train, epochs=10, batch_size=16)"
   ]
  },
  {
   "cell_type": "markdown",
   "metadata": {
    "pycharm": {
     "name": "#%% md\n"
    }
   },
   "source": [
    "After that completes, just use `.evaluate()` to evaluate against your test set. This function will print the value of the loss function and the performance metrics specified during the compilation of the model. In this case, the `binary_crossentropy` and the `accuracy` respectively."
   ]
  },
  {
   "cell_type": "code",
   "execution_count": 9,
   "metadata": {
    "pycharm": {
     "name": "#%%\n"
    }
   },
   "outputs": [
    {
     "name": "stdout",
     "output_type": "stream",
     "text": [
      "5/5 [==============================] - 0s 25ms/step - loss: 0.1415 - accuracy: 0.9400\n"
     ]
    },
    {
     "data": {
      "text/plain": [
       "[0.14145205914974213, 0.9399999976158142]"
      ]
     },
     "execution_count": 9,
     "metadata": {},
     "output_type": "execute_result"
    }
   ],
   "source": [
    "happy_model.evaluate(X_test, Y_test)"
   ]
  },
  {
   "cell_type": "markdown",
   "metadata": {
    "pycharm": {
     "name": "#%% md\n"
    }
   },
   "source": [
    "Easy, right? But what if you need to build a model with shared layers, branches, or multiple inputs and outputs? This is where Sequential, with its beautifully simple yet limited functionality, won't be able to help you. \n",
    "\n",
    "Next up: Enter the Functional API, your slightly more complex, highly flexible friend.  "
   ]
  },
  {
   "cell_type": "markdown",
   "metadata": {
    "pycharm": {
     "name": "#%% md\n"
    }
   },
   "source": [
    "<a name='4'></a>\n",
    "## 4 - The Functional API"
   ]
  },
  {
   "cell_type": "markdown",
   "metadata": {
    "pycharm": {
     "name": "#%% md\n"
    }
   },
   "source": [
    "Welcome to the second half of the assignment, where you'll use Keras' flexible [Functional API](https://www.tensorflow.org/guide/keras/functional) to build a ConvNet that can differentiate between 6 sign language digits. \n",
    "\n",
    "The Functional API can handle models with non-linear topology, shared layers, as well as layers with multiple inputs or outputs. Imagine that, where the Sequential API requires the model to move in a linear fashion through its layers, the Functional API allows much more flexibility. Where Sequential is a straight line, a Functional model is a graph, where the nodes of the layers can connect in many more ways than one. \n",
    "\n",
    "In the visual example below, the one possible direction of the movement Sequential model is shown in contrast to a skip connection, which is just one of the many ways a Functional model can be constructed. A skip connection, as you might have guessed, skips some layer in the network and feeds the output to a later layer in the network. Don't worry, you'll be spending more time with skip connections very soon! "
   ]
  },
  {
   "cell_type": "markdown",
   "metadata": {
    "pycharm": {
     "name": "#%% md\n"
    }
   },
   "source": [
    "<img src=\"images/seq_vs_func.png\" style=\"width:350px;height:200px;\">"
   ]
  },
  {
   "cell_type": "markdown",
   "metadata": {
    "pycharm": {
     "name": "#%% md\n"
    }
   },
   "source": [
    "\n",
    "<a name='4-1'></a>\n",
    "### 4.1 - Load the SIGNS Dataset\n",
    "\n",
    "As a reminder, the SIGNS dataset is a collection of 6 signs representing numbers from 0 to 5."
   ]
  },
  {
   "cell_type": "code",
   "execution_count": 10,
   "metadata": {
    "pycharm": {
     "name": "#%%\n"
    }
   },
   "outputs": [],
   "source": [
    "# Loading the data (signs)\n",
    "X_train_orig, Y_train_orig, X_test_orig, Y_test_orig, classes = load_signs_dataset()"
   ]
  },
  {
   "cell_type": "markdown",
   "metadata": {
    "pycharm": {
     "name": "#%% md\n"
    }
   },
   "source": [
    "<img src=\"images/SIGNS.png\" style=\"width:800px;height:300px;\">\n",
    "\n",
    "The next cell will show you an example of a labelled image in the dataset. Feel free to change the value of `index` below and re-run to see different examples. "
   ]
  },
  {
   "cell_type": "code",
   "execution_count": 11,
   "metadata": {
    "pycharm": {
     "name": "#%%\n"
    }
   },
   "outputs": [
    {
     "name": "stdout",
     "output_type": "stream",
     "text": [
      "y = 4\n"
     ]
    },
    {
     "data": {
      "image/png": "[encoded data removed]",
      "text/plain": [
       "<Figure size 640x480 with 1 Axes>"
      ]
     },
     "metadata": {},
     "output_type": "display_data"
    }
   ],
   "source": [
    "# Example of an image from the dataset\n",
    "index = 9\n",
    "plt.imshow(X_train_orig[index])\n",
    "print (\"y = \" + str(np.squeeze(Y_train_orig[:, index])))"
   ]
  },
  {
   "cell_type": "markdown",
   "metadata": {
    "pycharm": {
     "name": "#%% md\n"
    }
   },
   "source": [
    "<a name='4-2'></a>\n",
    "### 4.2 - Split the Data into Train/Test Sets\n",
    "\n",
    "In Course 2, you built a fully-connected network for this dataset. But since this is an image dataset, it is more natural to apply a ConvNet to it.\n",
    "\n",
    "To get started, let's examine the shapes of your data. "
   ]
  },
  {
   "cell_type": "code",
   "execution_count": 12,
   "metadata": {
    "pycharm": {
     "name": "#%%\n"
    }
   },
   "outputs": [
    {
     "name": "stdout",
     "output_type": "stream",
     "text": [
      "number of training examples = 1080\n",
      "number of test examples = 120\n",
      "X_train shape: (1080, 64, 64, 3)\n",
      "Y_train shape: (1080, 6)\n",
      "X_test shape: (120, 64, 64, 3)\n",
      "Y_test shape: (120, 6)\n"
     ]
    }
   ],
   "source": [
    "X_train = X_train_orig/255.\n",
    "X_test = X_test_orig/255.\n",
    "Y_train = convert_to_one_hot(Y_train_orig, 6).T\n",
    "Y_test = convert_to_one_hot(Y_test_orig, 6).T\n",
    "print (\"number of training examples = \" + str(X_train.shape[0]))\n",
    "print (\"number of test examples = \" + str(X_test.shape[0]))\n",
    "print (\"X_train shape: \" + str(X_train.shape))\n",
    "print (\"Y_train shape: \" + str(Y_train.shape))\n",
    "print (\"X_test shape: \" + str(X_test.shape))\n",
    "print (\"Y_test shape: \" + str(Y_test.shape))"
   ]
  },
  {
   "cell_type": "markdown",
   "metadata": {
    "pycharm": {
     "name": "#%% md\n"
    }
   },
   "source": [
    "<a name='4-3'></a>\n",
    "### 4.3 - Forward Propagation\n",
    "\n",
    "In TensorFlow, there are built-in functions that implement the convolution steps for you. By now, you should be familiar with how TensorFlow builds computational graphs. In the [Functional API](https://www.tensorflow.org/guide/keras/functional), you create a graph of layers. This is what allows such great flexibility.\n",
    "\n",
    "However, the following model could also be defined using the Sequential API since the information flow is on a single line. But don't deviate. What we want you to learn is to use the functional API.\n",
    "\n",
    "Begin building your graph of layers by creating an input node that functions as a callable object:\n",
    "\n",
    "- **input_img = tf.keras.Input(shape=input_shape):** \n",
    "\n",
    "Then, create a new node in the graph of layers by calling a layer on the `input_img` object: \n",
    "\n",
    "- **tf.keras.layers.Conv2D(filters= ... , kernel_size= ... , padding='same')(input_img):** Read the full documentation on [Conv2D](https://www.tensorflow.org/api_docs/python/tf/keras/layers/Conv2D).\n",
    "\n",
    "- **tf.keras.layers.MaxPool2D(pool_size=(f, f), strides=(s, s), padding='same'):** `MaxPool2D()` downsamples your input using a window of size (f, f) and strides of size (s, s) to carry out max pooling over each window.  For max pooling, you usually operate on a single example at a time and a single channel at a time. Read the full documentation on [MaxPool2D](https://www.tensorflow.org/api_docs/python/tf/keras/layers/MaxPool2D).\n",
    "\n",
    "- **tf.keras.layers.ReLU():** computes the elementwise ReLU of Z (which can be any shape). You can read the full documentation on [ReLU](https://www.tensorflow.org/api_docs/python/tf/keras/layers/ReLU).\n",
    "\n",
    "- **tf.keras.layers.Flatten()**: given a tensor \"P\", this function takes each training (or test) example in the batch and flattens it into a 1D vector.  \n",
    "\n",
    "    * If a tensor P has the shape (batch_size,h,w,c), it returns a flattened tensor with shape (batch_size, k), where $k=h \\times w \\times c$.  \"k\" equals the product of all the dimension sizes other than the first dimension.\n",
    "    \n",
    "    * For example, given a tensor with dimensions [100, 2, 3, 4], it flattens the tensor to be of shape [100, 24], where 24 = 2 * 3 * 4.  You can read the full documentation on [Flatten](https://www.tensorflow.org/api_docs/python/tf/keras/layers/Flatten).\n",
    "\n",
    "- **tf.keras.layers.Dense(units= ... , activation='softmax')(F):** given the flattened input F, it returns the output computed using a fully connected layer. You can read the full documentation on [Dense](https://www.tensorflow.org/api_docs/python/tf/keras/layers/Dense).\n",
    "\n",
    "In the last function above (`tf.keras.layers.Dense()`), the fully connected layer automatically initializes weights in the graph and keeps on training them as you train the model. Hence, you did not need to initialize those weights when initializing the parameters.\n",
    "\n",
    "Lastly, before creating the model, you'll need to define the output using the last of the function's compositions (in this example, a Dense layer): \n",
    "\n",
    "- **outputs = tf.keras.layers.Dense(units=6, activation='softmax')(F)**\n",
    "\n",
    "\n",
    "#### Window, kernel, filter, pool\n",
    "\n",
    "The words \"kernel\" and \"filter\" are used to refer to the same thing. The word \"filter\" accounts for the amount of \"kernels\" that will be used in a single convolution layer. \"Pool\" is the name of the operation that takes the max or average value of the kernels. \n",
    "\n",
    "This is why the parameter `pool_size` refers to `kernel_size`, and you use `(f,f)` to refer to the filter size. \n",
    "\n",
    "Pool size and kernel size refer to the same thing in different objects - They refer to the shape of the window where the operation takes place. "
   ]
  },
  {
   "cell_type": "markdown",
   "metadata": {
    "pycharm": {
     "name": "#%% md\n"
    }
   },
   "source": [
    "<a name='ex-2'></a>\n",
    "### Exercise 2 - convolutional_model\n",
    "\n",
    "Implement the `convolutional_model` function below to build the following model: `CONV2D -> RELU -> MAXPOOL -> CONV2D -> RELU -> MAXPOOL -> FLATTEN -> DENSE`. Use the functions above! \n",
    "\n",
    "Also, plug in the following parameters for all the steps:\n",
    "\n",
    " - [Conv2D](https://www.tensorflow.org/api_docs/python/tf/keras/layers/Conv2D): Use 8 4 by 4 filters, stride 1, padding is \"SAME\"\n",
    " - [ReLU](https://www.tensorflow.org/api_docs/python/tf/keras/layers/ReLU)\n",
    " - [MaxPool2D](https://www.tensorflow.org/api_docs/python/tf/keras/layers/MaxPool2D): Use an 8 by 8 filter size and an 8 by 8 stride, padding is \"SAME\"\n",
    " - **Conv2D**: Use 16 2 by 2 filters, stride 1, padding is \"SAME\"\n",
    " - **ReLU**\n",
    " - **MaxPool2D**: Use a 4 by 4 filter size and a 4 by 4 stride, padding is \"SAME\"\n",
    " - [Flatten](https://www.tensorflow.org/api_docs/python/tf/keras/layers/Flatten) the previous output.\n",
    " - Fully-connected ([Dense](https://www.tensorflow.org/api_docs/python/tf/keras/layers/Dense)) layer: Apply a fully connected layer with 6 neurons and a softmax activation. "
   ]
  },
  {
   "cell_type": "code",
   "execution_count": 13,
   "metadata": {
    "deletable": false,
    "nbgrader": {
     "cell_type": "code",
     "checksum": "f58643806aa8380c96225fc8b4c5e7aa",
     "grade": false,
     "grade_id": "cell-dac51744a9e03f51",
     "locked": false,
     "schema_version": 3,
     "solution": true,
     "task": false
    },
    "pycharm": {
     "name": "#%%\n"
    }
   },
   "outputs": [],
   "source": [
    "# GRADED FUNCTION: convolutional_model\n",
    "\n",
    "def convolutional_model(input_shape):\n",
    "    \"\"\"\n",
    "    Implements the forward propagation for the model:\n",
    "    CONV2D -> RELU -> MAXPOOL -> CONV2D -> RELU -> MAXPOOL -> FLATTEN -> DENSE\n",
    "    \n",
    "    Note that for simplicity and grading purposes, you'll hard-code some values\n",
    "    such as the stride and kernel (filter) sizes. \n",
    "    Normally, functions should take these values as function parameters.\n",
    "    \n",
    "    Arguments:\n",
    "    input_img -- input dataset, of shape (input_shape)\n",
    "\n",
    "    Returns:\n",
    "    model -- TF Keras model (object containing the information for the entire training process) \n",
    "    \"\"\"\n",
    "\n",
    "    input_img = tf.keras.Input(shape=input_shape)\n",
    "    ## CONV2D: 8 filters 4x4, stride of 1, padding 'SAME'\n",
    "    # Z1 = None\n",
    "    ## RELU\n",
    "    # A1 = None\n",
    "    ## MAXPOOL: window 8x8, stride 8, padding 'SAME'\n",
    "    # P1 = None\n",
    "    ## CONV2D: 16 filters 2x2, stride 1, padding 'SAME'\n",
    "    # Z2 = None\n",
    "    ## RELU\n",
    "    # A2 = None\n",
    "    ## MAXPOOL: window 4x4, stride 4, padding 'SAME'\n",
    "    # P2 = None\n",
    "    ## FLATTEN\n",
    "    # F = None\n",
    "    ## Dense layer\n",
    "    ## 6 neurons in output layer. Hint: one of the arguments should be \"activation='softmax'\" \n",
    "    # outputs = None\n",
    "    # YOUR CODE STARTS HERE\n",
    "    Z1 = tfl.Conv2D(8, (4,4), activation='linear', padding=\"same\", strides=1)(input_img)\n",
    "    A1 = tfl.ReLU()(Z1)\n",
    "    P1 = tfl.MaxPool2D(pool_size=(8, 8), strides=(8, 8), padding='same')(A1)\n",
    "    Z2 = tfl.Conv2D(16, (2,2), activation='linear', padding=\"same\", strides=1)(P1)\n",
    "    A2 = tfl.ReLU()(Z2)\n",
    "    P2 = tfl.MaxPool2D(pool_size=(4, 4), strides=(4, 4), padding='same')(A2)\n",
    "    F = tfl.Flatten()(P2)\n",
    "    outputs = tfl.Dense(6, activation='softmax')(F)\n",
    "    # YOUR CODE ENDS HERE\n",
    "    model = tf.keras.Model(inputs=input_img, outputs=outputs)\n",
    "    return model"
   ]
  },
  {
   "cell_type": "code",
   "execution_count": 14,
   "metadata": {
    "deletable": false,
    "editable": false,
    "nbgrader": {
     "cell_type": "code",
     "checksum": "483d626949930a0b0ef20997e7c6ba72",
     "grade": true,
     "grade_id": "cell-45d22e92042174c9",
     "locked": true,
     "points": 10,
     "schema_version": 3,
     "solution": false,
     "task": false
    },
    "pycharm": {
     "name": "#%%\n"
    }
   },
   "outputs": [
    {
     "name": "stdout",
     "output_type": "stream",
     "text": [
      "Model: \"model\"\n",
      "_________________________________________________________________\n",
      " Layer (type)                Output Shape              Param #   \n",
      "=================================================================\n",
      " input_1 (InputLayer)        [(None, 64, 64, 3)]       0         \n",
      "                                                                 \n",
      " conv2d_1 (Conv2D)           (None, 64, 64, 8)         392       \n",
      "                                                                 \n",
      " re_lu_1 (ReLU)              (None, 64, 64, 8)         0         \n",
      "                                                                 \n",
      " max_pooling2d_1 (MaxPooling  (None, 8, 8, 8)          0         \n",
      " 2D)                                                             \n",
      "                                                                 \n",
      " conv2d_2 (Conv2D)           (None, 8, 8, 16)          528       \n",
      "                                                                 \n",
      " re_lu_2 (ReLU)              (None, 8, 8, 16)          0         \n",
      "                                                                 \n",
      " max_pooling2d_2 (MaxPooling  (None, 2, 2, 16)         0         \n",
      " 2D)                                                             \n",
      "                                                                 \n",
      " flatten_1 (Flatten)         (None, 64)                0         \n",
      "                                                                 \n",
      " dense_1 (Dense)             (None, 6)                 390       \n",
      "                                                                 \n",
      "=================================================================\n",
      "Total params: 1,310\n",
      "Trainable params: 1,310\n",
      "Non-trainable params: 0\n",
      "_________________________________________________________________\n",
      "All tests passed!\n"
     ]
    }
   ],
   "source": [
    "conv_model = convolutional_model((64, 64, 3))\n",
    "conv_model.compile(optimizer='adam',\n",
    "                  loss='categorical_crossentropy',\n",
    "                  metrics=['accuracy'])\n",
    "conv_model.summary()\n",
    "    \n",
    "output = [['InputLayer', [(None, 64, 64, 3)], 0],\n",
    "        ['Conv2D', (None, 64, 64, 8), 392, 'same', 'linear', 'GlorotUniform'],\n",
    "        ['ReLU', (None, 64, 64, 8), 0],\n",
    "        ['MaxPooling2D', (None, 8, 8, 8), 0, (8, 8), (8, 8), 'same'],\n",
    "        ['Conv2D', (None, 8, 8, 16), 528, 'same', 'linear', 'GlorotUniform'],\n",
    "        ['ReLU', (None, 8, 8, 16), 0],\n",
    "        ['MaxPooling2D', (None, 2, 2, 16), 0, (4, 4), (4, 4), 'same'],\n",
    "        ['Flatten', (None, 64), 0],\n",
    "        ['Dense', (None, 6), 390, 'softmax']]\n",
    "    \n",
    "comparator(summary(conv_model), output)"
   ]
  },
  {
   "cell_type": "markdown",
   "metadata": {
    "pycharm": {
     "name": "#%% md\n"
    }
   },
   "source": [
    "Both the Sequential and Functional APIs return a TF Keras model object. The only difference is how inputs are handled inside the object model! "
   ]
  },
  {
   "cell_type": "markdown",
   "metadata": {
    "pycharm": {
     "name": "#%% md\n"
    }
   },
   "source": [
    "<a name='4-4'></a>\n",
    "### 4.4 - Train the Model"
   ]
  },
  {
   "cell_type": "code",
   "execution_count": 15,
   "metadata": {
    "pycharm": {
     "name": "#%%\n"
    }
   },
   "outputs": [
    {
     "name": "stdout",
     "output_type": "stream",
     "text": [
      "Epoch 1/100\n",
      "17/17 [==============================] - 1s 53ms/step - loss: 1.8171 - accuracy: 0.1667 - val_loss: 1.7940 - val_accuracy: 0.1667\n",
      "Epoch 2/100\n",
      "17/17 [==============================] - 1s 44ms/step - loss: 1.7874 - accuracy: 0.1907 - val_loss: 1.7855 - val_accuracy: 0.1750\n",
      "Epoch 3/100\n",
      "17/17 [==============================] - 1s 48ms/step - loss: 1.7792 - accuracy: 0.2241 - val_loss: 1.7773 - val_accuracy: 0.2250\n",
      "Epoch 4/100\n",
      "17/17 [==============================] - 1s 47ms/step - loss: 1.7710 - accuracy: 0.2778 - val_loss: 1.7699 - val_accuracy: 0.3250\n",
      "Epoch 5/100\n",
      "17/17 [==============================] - 1s 45ms/step - loss: 1.7606 - accuracy: 0.3009 - val_loss: 1.7596 - val_accuracy: 0.3500\n",
      "Epoch 6/100\n",
      "17/17 [==============================] - 1s 45ms/step - loss: 1.7465 - accuracy: 0.3556 - val_loss: 1.7467 - val_accuracy: 0.4167\n",
      "Epoch 7/100\n",
      "17/17 [==============================] - 1s 42ms/step - loss: 1.7293 - accuracy: 0.3870 - val_loss: 1.7299 - val_accuracy: 0.4167\n",
      "Epoch 8/100\n",
      "17/17 [==============================] - 1s 47ms/step - loss: 1.7076 - accuracy: 0.3880 - val_loss: 1.7090 - val_accuracy: 0.4500\n",
      "Epoch 9/100\n",
      "17/17 [==============================] - 1s 45ms/step - loss: 1.6794 - accuracy: 0.3991 - val_loss: 1.6824 - val_accuracy: 0.4500\n",
      "Epoch 10/100\n",
      "17/17 [==============================] - 1s 48ms/step - loss: 1.6462 - accuracy: 0.4204 - val_loss: 1.6517 - val_accuracy: 0.4417\n",
      "Epoch 11/100\n",
      "17/17 [==============================] - 1s 55ms/step - loss: 1.6081 - accuracy: 0.4454 - val_loss: 1.6175 - val_accuracy: 0.4667\n",
      "Epoch 12/100\n",
      "17/17 [==============================] - 1s 51ms/step - loss: 1.5668 - accuracy: 0.4481 - val_loss: 1.5813 - val_accuracy: 0.4750\n",
      "Epoch 13/100\n",
      "17/17 [==============================] - 1s 45ms/step - loss: 1.5241 - accuracy: 0.4657 - val_loss: 1.5452 - val_accuracy: 0.5000\n",
      "Epoch 14/100\n",
      "17/17 [==============================] - 1s 54ms/step - loss: 1.4802 - accuracy: 0.4824 - val_loss: 1.5063 - val_accuracy: 0.5167\n",
      "Epoch 15/100\n",
      "17/17 [==============================] - 1s 51ms/step - loss: 1.4351 - accuracy: 0.5037 - val_loss: 1.4646 - val_accuracy: 0.5250\n",
      "Epoch 16/100\n",
      "17/17 [==============================] - 1s 54ms/step - loss: 1.3910 - accuracy: 0.5194 - val_loss: 1.4240 - val_accuracy: 0.5583\n",
      "Epoch 17/100\n",
      "17/17 [==============================] - 1s 57ms/step - loss: 1.3480 - accuracy: 0.5370 - val_loss: 1.3828 - val_accuracy: 0.5667\n",
      "Epoch 18/100\n",
      "17/17 [==============================] - 1s 52ms/step - loss: 1.3053 - accuracy: 0.5583 - val_loss: 1.3423 - val_accuracy: 0.5750\n",
      "Epoch 19/100\n",
      "17/17 [==============================] - 1s 51ms/step - loss: 1.2634 - accuracy: 0.5713 - val_loss: 1.3002 - val_accuracy: 0.5750\n",
      "Epoch 20/100\n",
      "17/17 [==============================] - 1s 52ms/step - loss: 1.2216 - accuracy: 0.5917 - val_loss: 1.2593 - val_accuracy: 0.5667\n",
      "Epoch 21/100\n",
      "17/17 [==============================] - 1s 48ms/step - loss: 1.1803 - accuracy: 0.6093 - val_loss: 1.2106 - val_accuracy: 0.5917\n",
      "Epoch 22/100\n",
      "17/17 [==============================] - 1s 58ms/step - loss: 1.1382 - accuracy: 0.6185 - val_loss: 1.1674 - val_accuracy: 0.5750\n",
      "Epoch 23/100\n",
      "17/17 [==============================] - 1s 54ms/step - loss: 1.0980 - accuracy: 0.6333 - val_loss: 1.1250 - val_accuracy: 0.6167\n",
      "Epoch 24/100\n",
      "17/17 [==============================] - 1s 43ms/step - loss: 1.0598 - accuracy: 0.6380 - val_loss: 1.0846 - val_accuracy: 0.6167\n",
      "Epoch 25/100\n",
      "17/17 [==============================] - 1s 51ms/step - loss: 1.0232 - accuracy: 0.6500 - val_loss: 1.0471 - val_accuracy: 0.6417\n",
      "Epoch 26/100\n",
      "17/17 [==============================] - 1s 61ms/step - loss: 0.9882 - accuracy: 0.6722 - val_loss: 1.0108 - val_accuracy: 0.6500\n",
      "Epoch 27/100\n",
      "17/17 [==============================] - 1s 58ms/step - loss: 0.9551 - accuracy: 0.6926 - val_loss: 0.9773 - val_accuracy: 0.6583\n",
      "Epoch 28/100\n",
      "17/17 [==============================] - 1s 53ms/step - loss: 0.9240 - accuracy: 0.6991 - val_loss: 0.9451 - val_accuracy: 0.6750\n",
      "Epoch 29/100\n",
      "17/17 [==============================] - 1s 46ms/step - loss: 0.8946 - accuracy: 0.7130 - val_loss: 0.9149 - val_accuracy: 0.6750\n",
      "Epoch 30/100\n",
      "17/17 [==============================] - 1s 48ms/step - loss: 0.8672 - accuracy: 0.7213 - val_loss: 0.8851 - val_accuracy: 0.6917\n",
      "Epoch 31/100\n",
      "17/17 [==============================] - 1s 49ms/step - loss: 0.8410 - accuracy: 0.7296 - val_loss: 0.8569 - val_accuracy: 0.7083\n",
      "Epoch 32/100\n",
      "17/17 [==============================] - 1s 51ms/step - loss: 0.8167 - accuracy: 0.7398 - val_loss: 0.8305 - val_accuracy: 0.7250\n",
      "Epoch 33/100\n",
      "17/17 [==============================] - 1s 52ms/step - loss: 0.7935 - accuracy: 0.7481 - val_loss: 0.8055 - val_accuracy: 0.7250\n",
      "Epoch 34/100\n",
      "17/17 [==============================] - 1s 44ms/step - loss: 0.7722 - accuracy: 0.7574 - val_loss: 0.7829 - val_accuracy: 0.7333\n",
      "Epoch 35/100\n",
      "17/17 [==============================] - 1s 48ms/step - loss: 0.7521 - accuracy: 0.7648 - val_loss: 0.7625 - val_accuracy: 0.7417\n",
      "Epoch 36/100\n",
      "17/17 [==============================] - 1s 57ms/step - loss: 0.7336 - accuracy: 0.7704 - val_loss: 0.7435 - val_accuracy: 0.7583\n",
      "Epoch 37/100\n",
      "17/17 [==============================] - 1s 53ms/step - loss: 0.7157 - accuracy: 0.7741 - val_loss: 0.7252 - val_accuracy: 0.7583\n",
      "Epoch 38/100\n",
      "17/17 [==============================] - 1s 49ms/step - loss: 0.6989 - accuracy: 0.7787 - val_loss: 0.7089 - val_accuracy: 0.7750\n",
      "Epoch 39/100\n",
      "17/17 [==============================] - 1s 55ms/step - loss: 0.6834 - accuracy: 0.7843 - val_loss: 0.6938 - val_accuracy: 0.7750\n",
      "Epoch 40/100\n",
      "17/17 [==============================] - 1s 49ms/step - loss: 0.6687 - accuracy: 0.7861 - val_loss: 0.6793 - val_accuracy: 0.7750\n",
      "Epoch 41/100\n",
      "17/17 [==============================] - 1s 50ms/step - loss: 0.6547 - accuracy: 0.7917 - val_loss: 0.6659 - val_accuracy: 0.7750\n",
      "Epoch 42/100\n",
      "17/17 [==============================] - 1s 48ms/step - loss: 0.6415 - accuracy: 0.7954 - val_loss: 0.6527 - val_accuracy: 0.7833\n",
      "Epoch 43/100\n",
      "17/17 [==============================] - 1s 54ms/step - loss: 0.6292 - accuracy: 0.7963 - val_loss: 0.6411 - val_accuracy: 0.7833\n",
      "Epoch 44/100\n",
      "17/17 [==============================] - 1s 46ms/step - loss: 0.6177 - accuracy: 0.7981 - val_loss: 0.6293 - val_accuracy: 0.7833\n",
      "Epoch 45/100\n",
      "17/17 [==============================] - 1s 48ms/step - loss: 0.6069 - accuracy: 0.8028 - val_loss: 0.6174 - val_accuracy: 0.7833\n",
      "Epoch 46/100\n",
      "17/17 [==============================] - 1s 47ms/step - loss: 0.5964 - accuracy: 0.8056 - val_loss: 0.6051 - val_accuracy: 0.7833\n",
      "Epoch 47/100\n",
      "17/17 [==============================] - 1s 47ms/step - loss: 0.5866 - accuracy: 0.8083 - val_loss: 0.5952 - val_accuracy: 0.7833\n",
      "Epoch 48/100\n",
      "17/17 [==============================] - 1s 44ms/step - loss: 0.5771 - accuracy: 0.8148 - val_loss: 0.5850 - val_accuracy: 0.8000\n",
      "Epoch 49/100\n",
      "17/17 [==============================] - 1s 50ms/step - loss: 0.5676 - accuracy: 0.8167 - val_loss: 0.5760 - val_accuracy: 0.8000\n",
      "Epoch 50/100\n",
      "17/17 [==============================] - 1s 50ms/step - loss: 0.5589 - accuracy: 0.8176 - val_loss: 0.5660 - val_accuracy: 0.8083\n",
      "Epoch 51/100\n",
      "17/17 [==============================] - 1s 51ms/step - loss: 0.5503 - accuracy: 0.8222 - val_loss: 0.5567 - val_accuracy: 0.8167\n",
      "Epoch 52/100\n",
      "17/17 [==============================] - 1s 50ms/step - loss: 0.5418 - accuracy: 0.8222 - val_loss: 0.5472 - val_accuracy: 0.8083\n",
      "Epoch 53/100\n",
      "17/17 [==============================] - 1s 54ms/step - loss: 0.5334 - accuracy: 0.8269 - val_loss: 0.5394 - val_accuracy: 0.8167\n",
      "Epoch 54/100\n",
      "17/17 [==============================] - 1s 49ms/step - loss: 0.5257 - accuracy: 0.8296 - val_loss: 0.5318 - val_accuracy: 0.8250\n",
      "Epoch 55/100\n",
      "17/17 [==============================] - 1s 58ms/step - loss: 0.5176 - accuracy: 0.8324 - val_loss: 0.5245 - val_accuracy: 0.8250\n",
      "Epoch 56/100\n",
      "17/17 [==============================] - 1s 53ms/step - loss: 0.5101 - accuracy: 0.8352 - val_loss: 0.5179 - val_accuracy: 0.8417\n",
      "Epoch 57/100\n",
      "17/17 [==============================] - 1s 45ms/step - loss: 0.5029 - accuracy: 0.8361 - val_loss: 0.5114 - val_accuracy: 0.8417\n",
      "Epoch 58/100\n"
     ]
    },
    {
     "name": "stdout",
     "output_type": "stream",
     "text": [
      "17/17 [==============================] - 1s 53ms/step - loss: 0.4961 - accuracy: 0.8389 - val_loss: 0.5048 - val_accuracy: 0.8250\n",
      "Epoch 59/100\n",
      "17/17 [==============================] - 1s 45ms/step - loss: 0.4893 - accuracy: 0.8407 - val_loss: 0.4995 - val_accuracy: 0.8333\n",
      "Epoch 60/100\n",
      "17/17 [==============================] - 1s 54ms/step - loss: 0.4827 - accuracy: 0.8417 - val_loss: 0.4943 - val_accuracy: 0.8333\n",
      "Epoch 61/100\n",
      "17/17 [==============================] - 1s 47ms/step - loss: 0.4761 - accuracy: 0.8426 - val_loss: 0.4890 - val_accuracy: 0.8333\n",
      "Epoch 62/100\n",
      "17/17 [==============================] - 1s 46ms/step - loss: 0.4702 - accuracy: 0.8435 - val_loss: 0.4839 - val_accuracy: 0.8333\n",
      "Epoch 63/100\n",
      "17/17 [==============================] - 1s 42ms/step - loss: 0.4642 - accuracy: 0.8454 - val_loss: 0.4791 - val_accuracy: 0.8417\n",
      "Epoch 64/100\n",
      "17/17 [==============================] - 1s 53ms/step - loss: 0.4579 - accuracy: 0.8463 - val_loss: 0.4747 - val_accuracy: 0.8417\n",
      "Epoch 65/100\n",
      "17/17 [==============================] - 1s 51ms/step - loss: 0.4521 - accuracy: 0.8491 - val_loss: 0.4706 - val_accuracy: 0.8417\n",
      "Epoch 66/100\n",
      "17/17 [==============================] - 1s 51ms/step - loss: 0.4465 - accuracy: 0.8519 - val_loss: 0.4664 - val_accuracy: 0.8500\n",
      "Epoch 67/100\n",
      "17/17 [==============================] - 1s 46ms/step - loss: 0.4410 - accuracy: 0.8519 - val_loss: 0.4626 - val_accuracy: 0.8583\n",
      "Epoch 68/100\n",
      "17/17 [==============================] - 1s 51ms/step - loss: 0.4356 - accuracy: 0.8537 - val_loss: 0.4586 - val_accuracy: 0.8583\n",
      "Epoch 69/100\n",
      "17/17 [==============================] - 1s 45ms/step - loss: 0.4302 - accuracy: 0.8574 - val_loss: 0.4550 - val_accuracy: 0.8583\n",
      "Epoch 70/100\n",
      "17/17 [==============================] - 1s 49ms/step - loss: 0.4250 - accuracy: 0.8630 - val_loss: 0.4515 - val_accuracy: 0.8583\n",
      "Epoch 71/100\n",
      "17/17 [==============================] - 1s 48ms/step - loss: 0.4200 - accuracy: 0.8657 - val_loss: 0.4476 - val_accuracy: 0.8583\n",
      "Epoch 72/100\n",
      "17/17 [==============================] - 1s 51ms/step - loss: 0.4151 - accuracy: 0.8685 - val_loss: 0.4438 - val_accuracy: 0.8583\n",
      "Epoch 73/100\n",
      "17/17 [==============================] - 1s 54ms/step - loss: 0.4103 - accuracy: 0.8676 - val_loss: 0.4395 - val_accuracy: 0.8583\n",
      "Epoch 74/100\n",
      "17/17 [==============================] - 1s 48ms/step - loss: 0.4054 - accuracy: 0.8722 - val_loss: 0.4347 - val_accuracy: 0.8583\n",
      "Epoch 75/100\n",
      "17/17 [==============================] - 1s 50ms/step - loss: 0.3998 - accuracy: 0.8731 - val_loss: 0.4286 - val_accuracy: 0.8583\n",
      "Epoch 76/100\n",
      "17/17 [==============================] - 1s 47ms/step - loss: 0.3942 - accuracy: 0.8759 - val_loss: 0.4247 - val_accuracy: 0.8583\n",
      "Epoch 77/100\n",
      "17/17 [==============================] - 1s 44ms/step - loss: 0.3894 - accuracy: 0.8778 - val_loss: 0.4211 - val_accuracy: 0.8583\n",
      "Epoch 78/100\n",
      "17/17 [==============================] - 1s 48ms/step - loss: 0.3843 - accuracy: 0.8796 - val_loss: 0.4171 - val_accuracy: 0.8583\n",
      "Epoch 79/100\n",
      "17/17 [==============================] - 1s 50ms/step - loss: 0.3796 - accuracy: 0.8833 - val_loss: 0.4135 - val_accuracy: 0.8583\n",
      "Epoch 80/100\n",
      "17/17 [==============================] - 1s 59ms/step - loss: 0.3746 - accuracy: 0.8880 - val_loss: 0.4104 - val_accuracy: 0.8667\n",
      "Epoch 81/100\n",
      "17/17 [==============================] - 1s 58ms/step - loss: 0.3698 - accuracy: 0.8926 - val_loss: 0.4073 - val_accuracy: 0.8750\n",
      "Epoch 82/100\n",
      "17/17 [==============================] - 1s 56ms/step - loss: 0.3651 - accuracy: 0.8935 - val_loss: 0.4041 - val_accuracy: 0.8750\n",
      "Epoch 83/100\n",
      "17/17 [==============================] - 1s 48ms/step - loss: 0.3606 - accuracy: 0.8954 - val_loss: 0.4010 - val_accuracy: 0.8750\n",
      "Epoch 84/100\n",
      "17/17 [==============================] - 1s 53ms/step - loss: 0.3564 - accuracy: 0.8972 - val_loss: 0.3978 - val_accuracy: 0.8750\n",
      "Epoch 85/100\n",
      "17/17 [==============================] - 1s 50ms/step - loss: 0.3523 - accuracy: 0.8981 - val_loss: 0.3954 - val_accuracy: 0.8750\n",
      "Epoch 86/100\n",
      "17/17 [==============================] - 1s 51ms/step - loss: 0.3479 - accuracy: 0.9009 - val_loss: 0.3926 - val_accuracy: 0.8750\n",
      "Epoch 87/100\n",
      "17/17 [==============================] - 1s 55ms/step - loss: 0.3439 - accuracy: 0.9019 - val_loss: 0.3899 - val_accuracy: 0.8667\n",
      "Epoch 88/100\n",
      "17/17 [==============================] - 1s 58ms/step - loss: 0.3398 - accuracy: 0.9046 - val_loss: 0.3876 - val_accuracy: 0.8667\n",
      "Epoch 89/100\n",
      "17/17 [==============================] - 1s 50ms/step - loss: 0.3360 - accuracy: 0.9056 - val_loss: 0.3853 - val_accuracy: 0.8667\n",
      "Epoch 90/100\n",
      "17/17 [==============================] - 1s 51ms/step - loss: 0.3321 - accuracy: 0.9074 - val_loss: 0.3831 - val_accuracy: 0.8750\n",
      "Epoch 91/100\n",
      "17/17 [==============================] - 1s 50ms/step - loss: 0.3282 - accuracy: 0.9074 - val_loss: 0.3815 - val_accuracy: 0.8750\n",
      "Epoch 92/100\n",
      "17/17 [==============================] - 1s 47ms/step - loss: 0.3247 - accuracy: 0.9083 - val_loss: 0.3791 - val_accuracy: 0.8750\n",
      "Epoch 93/100\n",
      "17/17 [==============================] - 1s 48ms/step - loss: 0.3211 - accuracy: 0.9102 - val_loss: 0.3777 - val_accuracy: 0.8750\n",
      "Epoch 94/100\n",
      "17/17 [==============================] - 1s 52ms/step - loss: 0.3177 - accuracy: 0.9074 - val_loss: 0.3756 - val_accuracy: 0.8750\n",
      "Epoch 95/100\n",
      "17/17 [==============================] - 1s 53ms/step - loss: 0.3142 - accuracy: 0.9111 - val_loss: 0.3739 - val_accuracy: 0.8667\n",
      "Epoch 96/100\n",
      "17/17 [==============================] - 1s 51ms/step - loss: 0.3110 - accuracy: 0.9102 - val_loss: 0.3721 - val_accuracy: 0.8750\n",
      "Epoch 97/100\n",
      "17/17 [==============================] - 1s 51ms/step - loss: 0.3080 - accuracy: 0.9120 - val_loss: 0.3704 - val_accuracy: 0.8667\n",
      "Epoch 98/100\n",
      "17/17 [==============================] - 1s 49ms/step - loss: 0.3047 - accuracy: 0.9130 - val_loss: 0.3691 - val_accuracy: 0.8667\n",
      "Epoch 99/100\n",
      "17/17 [==============================] - 1s 47ms/step - loss: 0.3018 - accuracy: 0.9120 - val_loss: 0.3673 - val_accuracy: 0.8667\n",
      "Epoch 100/100\n",
      "17/17 [==============================] - 1s 54ms/step - loss: 0.2987 - accuracy: 0.9139 - val_loss: 0.3655 - val_accuracy: 0.8667\n"
     ]
    }
   ],
   "source": [
    "train_dataset = tf.data.Dataset.from_tensor_slices((X_train, Y_train)).batch(64)\n",
    "test_dataset = tf.data.Dataset.from_tensor_slices((X_test, Y_test)).batch(64)\n",
    "history = conv_model.fit(train_dataset, epochs=100, validation_data=test_dataset)"
   ]
  },
  {
   "cell_type": "markdown",
   "metadata": {
    "pycharm": {
     "name": "#%% md\n"
    }
   },
   "source": [
    "<a name='5'></a>\n",
    "## 5 - History Object \n",
    "\n",
    "The history object is an output of the `.fit()` operation, and provides a record of all the loss and metric values in memory. It's stored as a dictionary that you can retrieve at `history.history`: "
   ]
  },
  {
   "cell_type": "code",
   "execution_count": 16,
   "metadata": {
    "pycharm": {
     "name": "#%%\n"
    }
   },
   "outputs": [
    {
     "data": {
      "text/plain": [
       "{'loss': [1.8170970678329468,\n",
       "  1.7873979806900024,\n",
       "  1.7792092561721802,\n",
       "  1.770959734916687,\n",
       "  1.7606182098388672,\n",
       "  1.7464925050735474,\n",
       "  1.729264259338379,\n",
       "  1.7075557708740234,\n",
       "  1.679386854171753,\n",
       "  1.6462136507034302,\n",
       "  1.6080987453460693,\n",
       "  1.5667909383773804,\n",
       "  1.5240771770477295,\n",
       "  1.48021399974823,\n",
       "  1.4351437091827393,\n",
       "  1.3909584283828735,\n",
       "  1.3480406999588013,\n",
       "  1.3052854537963867,\n",
       "  1.263375997543335,\n",
       "  1.221553921699524,\n",
       "  1.1802830696105957,\n",
       "  1.1381689310073853,\n",
       "  1.0979893207550049,\n",
       "  1.0597667694091797,\n",
       "  1.0232245922088623,\n",
       "  0.988189697265625,\n",
       "  0.9551146626472473,\n",
       "  0.9239932298660278,\n",
       "  0.8946496844291687,\n",
       "  0.8672336339950562,\n",
       "  0.8409937620162964,\n",
       "  0.8166640400886536,\n",
       "  0.793495774269104,\n",
       "  0.7721725106239319,\n",
       "  0.7521255612373352,\n",
       "  0.7335840463638306,\n",
       "  0.7156717777252197,\n",
       "  0.6988978385925293,\n",
       "  0.6834423542022705,\n",
       "  0.6686526536941528,\n",
       "  0.6546618342399597,\n",
       "  0.6415367722511292,\n",
       "  0.629172146320343,\n",
       "  0.6176996231079102,\n",
       "  0.6068817973136902,\n",
       "  0.5964334011077881,\n",
       "  0.5866125226020813,\n",
       "  0.5771175622940063,\n",
       "  0.5676416754722595,\n",
       "  0.5589344501495361,\n",
       "  0.5503430366516113,\n",
       "  0.5418446063995361,\n",
       "  0.5334410667419434,\n",
       "  0.5256850123405457,\n",
       "  0.5176081657409668,\n",
       "  0.5101389288902283,\n",
       "  0.5029116868972778,\n",
       "  0.4961489140987396,\n",
       "  0.4893278479576111,\n",
       "  0.48271697759628296,\n",
       "  0.4761323034763336,\n",
       "  0.4701562225818634,\n",
       "  0.4641540050506592,\n",
       "  0.45788463950157166,\n",
       "  0.45206326246261597,\n",
       "  0.4465474784374237,\n",
       "  0.4410281777381897,\n",
       "  0.43558135628700256,\n",
       "  0.43023571372032166,\n",
       "  0.4249646067619324,\n",
       "  0.41999390721321106,\n",
       "  0.41514378786087036,\n",
       "  0.41028809547424316,\n",
       "  0.40542641282081604,\n",
       "  0.39975354075431824,\n",
       "  0.394203782081604,\n",
       "  0.3893759548664093,\n",
       "  0.3843362629413605,\n",
       "  0.3796374201774597,\n",
       "  0.3745952546596527,\n",
       "  0.36977240443229675,\n",
       "  0.36508408188819885,\n",
       "  0.36062049865722656,\n",
       "  0.3564302921295166,\n",
       "  0.3523406386375427,\n",
       "  0.3478849232196808,\n",
       "  0.3438923954963684,\n",
       "  0.3397938013076782,\n",
       "  0.33598625659942627,\n",
       "  0.3320613503456116,\n",
       "  0.3282465934753418,\n",
       "  0.32468703389167786,\n",
       "  0.32105299830436707,\n",
       "  0.3176887035369873,\n",
       "  0.3142436146736145,\n",
       "  0.3110014498233795,\n",
       "  0.3080212473869324,\n",
       "  0.30466797947883606,\n",
       "  0.30180463194847107,\n",
       "  0.298735648393631],\n",
       " 'accuracy': [0.1666666716337204,\n",
       "  0.19074073433876038,\n",
       "  0.2240740805864334,\n",
       "  0.2777777910232544,\n",
       "  0.30092594027519226,\n",
       "  0.35555556416511536,\n",
       "  0.3870370388031006,\n",
       "  0.3879629671573639,\n",
       "  0.39907407760620117,\n",
       "  0.4203703701496124,\n",
       "  0.4453703761100769,\n",
       "  0.4481481611728668,\n",
       "  0.46574074029922485,\n",
       "  0.48240742087364197,\n",
       "  0.5037037134170532,\n",
       "  0.519444465637207,\n",
       "  0.5370370149612427,\n",
       "  0.5583333373069763,\n",
       "  0.5712962746620178,\n",
       "  0.5916666388511658,\n",
       "  0.6092592477798462,\n",
       "  0.6185185313224792,\n",
       "  0.6333333253860474,\n",
       "  0.6379629373550415,\n",
       "  0.6499999761581421,\n",
       "  0.6722221970558167,\n",
       "  0.6925926208496094,\n",
       "  0.6990740895271301,\n",
       "  0.7129629850387573,\n",
       "  0.7212963104248047,\n",
       "  0.729629635810852,\n",
       "  0.739814817905426,\n",
       "  0.7481481432914734,\n",
       "  0.7574074268341064,\n",
       "  0.7648147940635681,\n",
       "  0.770370364189148,\n",
       "  0.7740740776062012,\n",
       "  0.7787036895751953,\n",
       "  0.7842592597007751,\n",
       "  0.7861111164093018,\n",
       "  0.7916666865348816,\n",
       "  0.7953703999519348,\n",
       "  0.7962962985038757,\n",
       "  0.7981481552124023,\n",
       "  0.8027777671813965,\n",
       "  0.8055555820465088,\n",
       "  0.8083333373069763,\n",
       "  0.8148148059844971,\n",
       "  0.8166666626930237,\n",
       "  0.8175926208496094,\n",
       "  0.8222222328186035,\n",
       "  0.8222222328186035,\n",
       "  0.8268518447875977,\n",
       "  0.8296296000480652,\n",
       "  0.8324074149131775,\n",
       "  0.835185170173645,\n",
       "  0.8361111283302307,\n",
       "  0.8388888835906982,\n",
       "  0.8407407402992249,\n",
       "  0.8416666388511658,\n",
       "  0.8425925970077515,\n",
       "  0.8435184955596924,\n",
       "  0.845370352268219,\n",
       "  0.8462963104248047,\n",
       "  0.8490740656852722,\n",
       "  0.8518518805503845,\n",
       "  0.8518518805503845,\n",
       "  0.8537036776542664,\n",
       "  0.8574073910713196,\n",
       "  0.8629629611968994,\n",
       "  0.8657407164573669,\n",
       "  0.8685185313224792,\n",
       "  0.8675925731658936,\n",
       "  0.8722222447395325,\n",
       "  0.8731481432914734,\n",
       "  0.8759258985519409,\n",
       "  0.8777777552604675,\n",
       "  0.8796296119689941,\n",
       "  0.8833333253860474,\n",
       "  0.8879629373550415,\n",
       "  0.8925926089286804,\n",
       "  0.8935185074806213,\n",
       "  0.895370364189148,\n",
       "  0.8972222208976746,\n",
       "  0.8981481194496155,\n",
       "  0.9009259343147278,\n",
       "  0.9018518328666687,\n",
       "  0.904629647731781,\n",
       "  0.9055555462837219,\n",
       "  0.9074074029922485,\n",
       "  0.9074074029922485,\n",
       "  0.9083333611488342,\n",
       "  0.9101851582527161,\n",
       "  0.9074074029922485,\n",
       "  0.9111111164093018,\n",
       "  0.9101851582527161,\n",
       "  0.9120370149612427,\n",
       "  0.9129629731178284,\n",
       "  0.9120370149612427,\n",
       "  0.9138888716697693],\n",
       " 'val_loss': [1.7939814329147339,\n",
       "  1.7855422496795654,\n",
       "  1.7773469686508179,\n",
       "  1.7698734998703003,\n",
       "  1.7595986127853394,\n",
       "  1.7467318773269653,\n",
       "  1.7299131155014038,\n",
       "  1.7089722156524658,\n",
       "  1.6824042797088623,\n",
       "  1.6516660451889038,\n",
       "  1.6174511909484863,\n",
       "  1.5813210010528564,\n",
       "  1.5451596975326538,\n",
       "  1.5062637329101562,\n",
       "  1.4645715951919556,\n",
       "  1.4239857196807861,\n",
       "  1.3828480243682861,\n",
       "  1.3422588109970093,\n",
       "  1.3002429008483887,\n",
       "  1.2593282461166382,\n",
       "  1.210554599761963,\n",
       "  1.16736900806427,\n",
       "  1.1250172853469849,\n",
       "  1.0845614671707153,\n",
       "  1.0470788478851318,\n",
       "  1.0107816457748413,\n",
       "  0.9772558212280273,\n",
       "  0.9450673460960388,\n",
       "  0.9148595929145813,\n",
       "  0.8851369023323059,\n",
       "  0.8568521738052368,\n",
       "  0.8305370211601257,\n",
       "  0.8055421113967896,\n",
       "  0.7828930020332336,\n",
       "  0.7625227570533752,\n",
       "  0.7435486316680908,\n",
       "  0.7252165675163269,\n",
       "  0.7088579535484314,\n",
       "  0.693828284740448,\n",
       "  0.6792687773704529,\n",
       "  0.6659090518951416,\n",
       "  0.6527427434921265,\n",
       "  0.6410998106002808,\n",
       "  0.6293132901191711,\n",
       "  0.6173554062843323,\n",
       "  0.6051128506660461,\n",
       "  0.59523606300354,\n",
       "  0.584972620010376,\n",
       "  0.575970470905304,\n",
       "  0.5660344362258911,\n",
       "  0.5566933751106262,\n",
       "  0.5471817255020142,\n",
       "  0.5393624901771545,\n",
       "  0.5317932963371277,\n",
       "  0.5245373249053955,\n",
       "  0.5178584456443787,\n",
       "  0.5113860368728638,\n",
       "  0.5047608017921448,\n",
       "  0.4995468556880951,\n",
       "  0.4943191409111023,\n",
       "  0.4890156686306,\n",
       "  0.48391902446746826,\n",
       "  0.4791345000267029,\n",
       "  0.4746990501880646,\n",
       "  0.47061869502067566,\n",
       "  0.46643105149269104,\n",
       "  0.46259933710098267,\n",
       "  0.4586096405982971,\n",
       "  0.4550192058086395,\n",
       "  0.4514835476875305,\n",
       "  0.4475719630718231,\n",
       "  0.44383659958839417,\n",
       "  0.4395047426223755,\n",
       "  0.4346679747104645,\n",
       "  0.42863884568214417,\n",
       "  0.4246630370616913,\n",
       "  0.4210529923439026,\n",
       "  0.4171397089958191,\n",
       "  0.4134596586227417,\n",
       "  0.4103944003582001,\n",
       "  0.4072614014148712,\n",
       "  0.4041147232055664,\n",
       "  0.40097904205322266,\n",
       "  0.3977971374988556,\n",
       "  0.3953719437122345,\n",
       "  0.39259853959083557,\n",
       "  0.3899342119693756,\n",
       "  0.38757744431495667,\n",
       "  0.38532745838165283,\n",
       "  0.38312283158302307,\n",
       "  0.38150709867477417,\n",
       "  0.37913912534713745,\n",
       "  0.3777022957801819,\n",
       "  0.3756408095359802,\n",
       "  0.37393873929977417,\n",
       "  0.3721299171447754,\n",
       "  0.37037762999534607,\n",
       "  0.3691173493862152,\n",
       "  0.3673258423805237,\n",
       "  0.3655431866645813],\n",
       " 'val_accuracy': [0.1666666716337204,\n",
       "  0.17499999701976776,\n",
       "  0.22499999403953552,\n",
       "  0.32499998807907104,\n",
       "  0.3499999940395355,\n",
       "  0.4166666567325592,\n",
       "  0.4166666567325592,\n",
       "  0.44999998807907104,\n",
       "  0.44999998807907104,\n",
       "  0.4416666626930237,\n",
       "  0.46666666865348816,\n",
       "  0.4749999940395355,\n",
       "  0.5,\n",
       "  0.5166666507720947,\n",
       "  0.5249999761581421,\n",
       "  0.5583333373069763,\n",
       "  0.5666666626930237,\n",
       "  0.574999988079071,\n",
       "  0.574999988079071,\n",
       "  0.5666666626930237,\n",
       "  0.5916666388511658,\n",
       "  0.574999988079071,\n",
       "  0.6166666746139526,\n",
       "  0.6166666746139526,\n",
       "  0.6416666507720947,\n",
       "  0.6499999761581421,\n",
       "  0.6583333611488342,\n",
       "  0.675000011920929,\n",
       "  0.675000011920929,\n",
       "  0.6916666626930237,\n",
       "  0.7083333134651184,\n",
       "  0.7250000238418579,\n",
       "  0.7250000238418579,\n",
       "  0.7333333492279053,\n",
       "  0.7416666746139526,\n",
       "  0.7583333253860474,\n",
       "  0.7583333253860474,\n",
       "  0.7749999761581421,\n",
       "  0.7749999761581421,\n",
       "  0.7749999761581421,\n",
       "  0.7749999761581421,\n",
       "  0.7833333611488342,\n",
       "  0.7833333611488342,\n",
       "  0.7833333611488342,\n",
       "  0.7833333611488342,\n",
       "  0.7833333611488342,\n",
       "  0.7833333611488342,\n",
       "  0.800000011920929,\n",
       "  0.800000011920929,\n",
       "  0.8083333373069763,\n",
       "  0.8166666626930237,\n",
       "  0.8083333373069763,\n",
       "  0.8166666626930237,\n",
       "  0.824999988079071,\n",
       "  0.824999988079071,\n",
       "  0.8416666388511658,\n",
       "  0.8416666388511658,\n",
       "  0.824999988079071,\n",
       "  0.8333333134651184,\n",
       "  0.8333333134651184,\n",
       "  0.8333333134651184,\n",
       "  0.8333333134651184,\n",
       "  0.8416666388511658,\n",
       "  0.8416666388511658,\n",
       "  0.8416666388511658,\n",
       "  0.8500000238418579,\n",
       "  0.8583333492279053,\n",
       "  0.8583333492279053,\n",
       "  0.8583333492279053,\n",
       "  0.8583333492279053,\n",
       "  0.8583333492279053,\n",
       "  0.8583333492279053,\n",
       "  0.8583333492279053,\n",
       "  0.8583333492279053,\n",
       "  0.8583333492279053,\n",
       "  0.8583333492279053,\n",
       "  0.8583333492279053,\n",
       "  0.8583333492279053,\n",
       "  0.8583333492279053,\n",
       "  0.8666666746139526,\n",
       "  0.875,\n",
       "  0.875,\n",
       "  0.875,\n",
       "  0.875,\n",
       "  0.875,\n",
       "  0.875,\n",
       "  0.8666666746139526,\n",
       "  0.8666666746139526,\n",
       "  0.8666666746139526,\n",
       "  0.875,\n",
       "  0.875,\n",
       "  0.875,\n",
       "  0.875,\n",
       "  0.875,\n",
       "  0.8666666746139526,\n",
       "  0.875,\n",
       "  0.8666666746139526,\n",
       "  0.8666666746139526,\n",
       "  0.8666666746139526,\n",
       "  0.8666666746139526]}"
      ]
     },
     "execution_count": 16,
     "metadata": {},
     "output_type": "execute_result"
    }
   ],
   "source": [
    "history.history"
   ]
  },
  {
   "cell_type": "markdown",
   "metadata": {
    "pycharm": {
     "name": "#%% md\n"
    }
   },
   "source": [
    "Now visualize the loss over time using `history.history`: "
   ]
  },
  {
   "cell_type": "code",
   "execution_count": 17,
   "metadata": {
    "pycharm": {
     "name": "#%%\n"
    }
   },
   "outputs": [
    {
     "name": "stderr",
     "output_type": "stream",
     "text": [
      "/tmp/ipykernel_50395/973814028.py:5: SettingWithCopyWarning: \n",
      "A value is trying to be set on a copy of a slice from a DataFrame\n",
      "\n",
      "See the caveats in the documentation: https://pandas.pydata.org/pandas-docs/stable/user_guide/indexing.html#returning-a-view-versus-a-copy\n",
      "  df_loss.rename(columns={'loss':'train','val_loss':'validation'},inplace=True)\n",
      "/tmp/ipykernel_50395/973814028.py:7: SettingWithCopyWarning: \n",
      "A value is trying to be set on a copy of a slice from a DataFrame\n",
      "\n",
      "See the caveats in the documentation: https://pandas.pydata.org/pandas-docs/stable/user_guide/indexing.html#returning-a-view-versus-a-copy\n",
      "  df_acc.rename(columns={'accuracy':'train','val_accuracy':'validation'},inplace=True)\n"
     ]
    },
    {
     "data": {
      "text/plain": [
       "[Text(0.5, 0, 'Epoch'), Text(0, 0.5, 'Accuracy')]"
      ]
     },
     "execution_count": 17,
     "metadata": {},
     "output_type": "execute_result"
    },
    {
     "data": {
      "image/png": "[encoded data removed]",
      "text/plain": [
       "<Figure size 1200x800 with 1 Axes>"
      ]
     },
     "metadata": {},
     "output_type": "display_data"
    },
    {
     "data": {
      "image/png": "[encoded data removed]",
      "text/plain": [
       "<Figure size 1200x800 with 1 Axes>"
      ]
     },
     "metadata": {},
     "output_type": "display_data"
    }
   ],
   "source": [
    "# The history.history[\"loss\"] entry is a dictionary with as many values as epochs that the\n",
    "# model was trained on. \n",
    "df_loss_acc = pd.DataFrame(history.history)\n",
    "df_loss= df_loss_acc[['loss','val_loss']]\n",
    "df_loss.rename(columns={'loss':'train','val_loss':'validation'},inplace=True)\n",
    "df_acc= df_loss_acc[['accuracy','val_accuracy']]\n",
    "df_acc.rename(columns={'accuracy':'train','val_accuracy':'validation'},inplace=True)\n",
    "df_loss.plot(title='Model loss',figsize=(12,8)).set(xlabel='Epoch',ylabel='Loss')\n",
    "df_acc.plot(title='Model Accuracy',figsize=(12,8)).set(xlabel='Epoch',ylabel='Accuracy')"
   ]
  },
  {
   "cell_type": "markdown",
   "metadata": {
    "pycharm": {
     "name": "#%% md\n"
    }
   },
   "source": [
    "**Congratulations**! You've finished the assignment and built two models: One that recognizes  smiles, and another that recognizes SIGN language with almost 80% accuracy on the test set. In addition to that, you now also understand the applications of two Keras APIs: Sequential and Functional. Nicely done! \n",
    "\n",
    "By now, you know a bit about how the Functional API works and may have glimpsed the possibilities. In your next assignment, you'll really get a feel for its power when you get the opportunity to build a very deep ConvNet, using ResNets! "
   ]
  },
  {
   "cell_type": "markdown",
   "metadata": {
    "pycharm": {
     "name": "#%% md\n"
    }
   },
   "source": [
    "<a name='6'></a>\n",
    "## 6 - Bibliography\n",
    "\n",
    "You're always encouraged to read the official documentation. To that end, you can find the docs for the Sequential and Functional APIs here: \n",
    "\n",
    "https://www.tensorflow.org/guide/keras/sequential_model\n",
    "\n",
    "https://www.tensorflow.org/guide/keras/functional"
   ]
  }
 ],
 "metadata": {
  "coursera": {
   "course_slug": "convolutional-neural-networks",
   "graded_item_id": "bwbJV",
   "launcher_item_id": "0TkXB"
  },
  "kernelspec": {
   "display_name": "Python 3 (ipykernel)",
   "language": "python",
   "name": "python3"
  },
  "language_info": {
   "codemirror_mode": {
    "name": "ipython",
    "version": 3
   },
   "file_extension": ".py",
   "mimetype": "text/x-python",
   "name": "python",
   "nbconvert_exporter": "python",
   "pygments_lexer": "ipython3",
   "version": "3.10.6"
  }
 },
 "nbformat": 4,
 "nbformat_minor": 2
}
