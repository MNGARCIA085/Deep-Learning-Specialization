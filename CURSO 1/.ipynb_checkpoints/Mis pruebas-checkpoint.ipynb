{
 "cells": [
  {
   "cell_type": "markdown",
   "id": "9dfb173f",
   "metadata": {},
   "source": [
    "# 1.1 NUMPY"
   ]
  },
  {
   "cell_type": "code",
   "execution_count": 1,
   "id": "dc78f3b5",
   "metadata": {},
   "outputs": [],
   "source": [
    "import numpy as np"
   ]
  },
  {
   "cell_type": "code",
   "execution_count": 18,
   "id": "2f9329b2",
   "metadata": {},
   "outputs": [
    {
     "name": "stdout",
     "output_type": "stream",
     "text": [
      "a1\n",
      "[1 2 3]\n",
      "shape of a1: (3,)\n",
      "\n",
      "a2\n",
      "[[1 2 3]\n",
      " [4 5 6]]\n",
      "shape of a2: (2, 3)\n",
      "cantidad de elementos 6\n",
      "\n",
      "a3\n",
      "[[[ 1  2  3]\n",
      "  [ 4  5  6]]\n",
      "\n",
      " [[ 7  8  9]\n",
      "  [10 11 12]]]\n",
      "shape of a3: (2, 2, 3)\n",
      "cantidad de elemenos 12\n",
      "\n",
      "a4\n",
      "[[[ 1  2  3]\n",
      "  [ 4  5  6]]\n",
      "\n",
      " [[ 7  8  9]\n",
      "  [10 11 12]]\n",
      "\n",
      " [[10 20 30]\n",
      "  [40 50 60]]\n",
      "\n",
      " [[10 20 30]\n",
      "  [40 50 60]]]\n",
      "shape of a4: (4, 2, 3)\n",
      "cantidad de elemenos 24\n"
     ]
    }
   ],
   "source": [
    "\n",
    "a1 = np.array([1, 2, 3])\n",
    "print('a1')\n",
    "print(a1)\n",
    "print('shape of a1:', a1.shape) # \n",
    "\n",
    "print()\n",
    "\n",
    "a2 = np.array([[1, 2, 3], [4, 5, 6]])\n",
    "print('a2')\n",
    "print(a2)\n",
    "print('shape of a2:', a2.shape) # 2 filas, 3 columnas\n",
    "print('cantidad de elementos',a2.size)\n",
    "\n",
    "print()\n",
    "a3 = np.array([[[1, 2, 3], [4, 5, 6]], [[7, 8, 9], [10, 11, 12]]])\n",
    "print('a3')\n",
    "print(a3)\n",
    "print('shape of a3:', a3.shape) # 2 filas, 2 columnas, profunidad 3\n",
    "print('cantidad de elemenos',a3.size) # 2x2x3\n",
    "\n",
    "\n",
    "\n",
    "print()\n",
    "a4 = np.array([[[1, 2, 3], [4, 5, 6]], [[7, 8, 9], [10, 11, 12]], [[10, 20, 30], [40, 50, 60]],\n",
    "              [[10, 20, 30], [40, 50, 60]]])\n",
    "print('a4')\n",
    "print(a4)\n",
    "print('shape of a4:', a4.shape) # 4-2-3\n",
    "print('cantidad de elemenos',a4.size) # 4x2x3\n",
    "\n",
    "\n",
    "\n",
    "\n"
   ]
  },
  {
   "cell_type": "code",
   "execution_count": 22,
   "id": "76d363f2",
   "metadata": {},
   "outputs": [
    {
     "data": {
      "text/plain": [
       "array([ 1,  2,  3,  4,  5,  6,  7,  8,  9, 10, 11, 12, 10, 20, 30, 40, 50,\n",
       "       60, 10, 20, 30, 40, 50, 60])"
      ]
     },
     "execution_count": 22,
     "metadata": {},
     "output_type": "execute_result"
    }
   ],
   "source": [
    "a4.ravel()"
   ]
  },
  {
   "cell_type": "code",
   "execution_count": 29,
   "id": "87d4b43a",
   "metadata": {},
   "outputs": [
    {
     "name": "stdout",
     "output_type": "stream",
     "text": [
      "a5\n",
      "[[[ 1  2  3  7]\n",
      "  [ 4  5  6  7]\n",
      "  [ 4  5  6  7]]\n",
      "\n",
      " [[ 7  8  9  2]\n",
      "  [10 11 12  2]\n",
      "  [ 4  5  6  7]]\n",
      "\n",
      " [[10 20 30  1]\n",
      "  [40 50 60  1]\n",
      "  [ 4  5  6  7]]\n",
      "\n",
      " [[10 20 30  1]\n",
      "  [40 50 60  1]\n",
      "  [ 4  5  6  7]]\n",
      "\n",
      " [[10 20 30  1]\n",
      "  [40 50 60  1]\n",
      "  [ 4  5  6  7]]]\n",
      "shape: (5, 3, 4)\n",
      "cantidad de elemenos 60\n"
     ]
    }
   ],
   "source": [
    "a5 = np.array([\n",
    "                [\n",
    "                    [1, 2, 3,7], [4, 5, 6,7], [4, 5, 6,7]\n",
    "                ], \n",
    "                [\n",
    "                    [7, 8, 9,2], [10, 11, 12,2], [4, 5, 6,7]\n",
    "                ], \n",
    "                [\n",
    "                    [10, 20, 30,1], [40, 50, 60,1], [4, 5, 6,7]\n",
    "                ],\n",
    "                [\n",
    "                    [10, 20, 30,1], [40, 50, 60,1], [4, 5, 6,7]\n",
    "                ],\n",
    "                [\n",
    "                    [10, 20, 30,1], [40, 50, 60,1], [4, 5, 6,7]\n",
    "                ]\n",
    "            ])\n",
    "print('a5')\n",
    "print(a5)\n",
    "print('shape:', a5.shape) \n",
    "print('cantidad de elemenos',a5.size) #"
   ]
  },
  {
   "cell_type": "markdown",
   "id": "64871740",
   "metadata": {},
   "source": [
    "### Reshape"
   ]
  },
  {
   "cell_type": "code",
   "execution_count": 36,
   "id": "89c50036",
   "metadata": {},
   "outputs": [
    {
     "name": "stdout",
     "output_type": "stream",
     "text": [
      "shape de v (1, 3, 2)\n",
      "\n",
      "f\n",
      "[[1 2]\n",
      " [3 4]\n",
      " [6 8]]\n",
      "(3, 2)\n"
     ]
    }
   ],
   "source": [
    "v = np.array([\n",
    "        [\n",
    "            [1,2],\n",
    "            [3,4],\n",
    "            [6,8]\n",
    "        ]\n",
    "])\n",
    "\n",
    "print('shape de v',v.shape)\n",
    "print()\n",
    "\n",
    "f = v.reshape((v.shape[0]*v.shape[1], v.shape[2]))\n",
    "\n",
    "print('f')\n",
    "print(f)\n",
    "print(f.shape)\n",
    "\n"
   ]
  },
  {
   "cell_type": "markdown",
   "id": "540cb406",
   "metadata": {},
   "source": [
    "### Norm"
   ]
  },
  {
   "cell_type": "code",
   "execution_count": 62,
   "id": "77b67a4d",
   "metadata": {},
   "outputs": [
    {
     "name": "stdout",
     "output_type": "stream",
     "text": [
      "[[ 1  2  3]\n",
      " [-1  1  4]]\n",
      "(2, 3)\n"
     ]
    },
    {
     "data": {
      "text/plain": [
       "array([[3.74165739],\n",
       "       [4.24264069]])"
      ]
     },
     "execution_count": 62,
     "metadata": {},
     "output_type": "execute_result"
    }
   ],
   "source": [
    "\n",
    "aux = np.array([[ 1, 2, 3],\n",
    "\n",
    "              [-1, 1, 4]])\n",
    "print(aux)\n",
    "print(aux.shape)\n",
    "\n",
    "\n",
    "\"\"\"\n",
    "\n",
    "axis = 1\n",
    "\n",
    "sqrt ( 1**2 + 2**2 + 3**2) = 3.74....\n",
    "sqrt( 1**2 + 1**2 + 4**2) = 4.24.....\n",
    "\"\"\"\n",
    "\n",
    "np.linalg.norm(aux,ord=2,axis=1,keepdims=True)\n",
    "\n",
    "\n",
    "\n"
   ]
  },
  {
   "cell_type": "code",
   "execution_count": 65,
   "id": "1703d83e",
   "metadata": {},
   "outputs": [
    {
     "name": "stdout",
     "output_type": "stream",
     "text": [
      "[[ 1  2  3]\n",
      " [-1  1  4]]\n",
      "(2, 3)\n"
     ]
    },
    {
     "data": {
      "text/plain": [
       "array([[1.41421356, 2.23606798, 5.        ]])"
      ]
     },
     "execution_count": 65,
     "metadata": {},
     "output_type": "execute_result"
    }
   ],
   "source": [
    "aux = np.array([[ 1, 2, 3],\n",
    "\n",
    "              [-1, 1, 4]])\n",
    "print(aux)\n",
    "print(aux.shape)\n",
    "\n",
    "\n",
    "\"\"\"\n",
    "\n",
    "axis = 0\n",
    "\n",
    "sqrt ( 1**2 + -1**2 ) = 1.41....\n",
    "sqrt( 2**2 + 1**2 ) = 2,23.....\n",
    "sqrt(3**2+4**2) = 5\n",
    "\n",
    "\"\"\"\n",
    "\n",
    "np.linalg.norm(aux,ord=2,axis=0,keepdims=True)"
   ]
  },
  {
   "cell_type": "markdown",
   "id": "1b2c71f7",
   "metadata": {},
   "source": [
    "### operaciones"
   ]
  },
  {
   "cell_type": "code",
   "execution_count": 67,
   "id": "29d714e7",
   "metadata": {},
   "outputs": [],
   "source": [
    "x1 = [1,2,3]\n",
    "x2 = [2,4,4]"
   ]
  },
  {
   "cell_type": "code",
   "execution_count": 70,
   "id": "77ab59f9",
   "metadata": {},
   "outputs": [
    {
     "data": {
      "text/plain": [
       "22"
      ]
     },
     "execution_count": 70,
     "metadata": {},
     "output_type": "execute_result"
    }
   ],
   "source": [
    "### producto punto\n",
    "dot = np.dot(x1,x2)\n",
    "dot\n"
   ]
  },
  {
   "cell_type": "code",
   "execution_count": 72,
   "id": "93d608d0",
   "metadata": {},
   "outputs": [
    {
     "data": {
      "text/plain": [
       "array([[ 2,  4,  4],\n",
       "       [ 4,  8,  8],\n",
       "       [ 6, 12, 12]])"
      ]
     },
     "execution_count": 72,
     "metadata": {},
     "output_type": "execute_result"
    }
   ],
   "source": [
    "outer = np.outer(x1,x2)\n",
    "outer"
   ]
  },
  {
   "cell_type": "code",
   "execution_count": 73,
   "id": "acb940a3",
   "metadata": {},
   "outputs": [
    {
     "data": {
      "text/plain": [
       "array([ 2,  8, 12])"
      ]
     },
     "execution_count": 73,
     "metadata": {},
     "output_type": "execute_result"
    }
   ],
   "source": [
    "# element wise\n",
    "wise = np.multiply(x1,x2)\n",
    "wise"
   ]
  },
  {
   "cell_type": "code",
   "execution_count": 75,
   "id": "a58b7a8f",
   "metadata": {},
   "outputs": [
    {
     "name": "stdout",
     "output_type": "stream",
     "text": [
      "[[ 14  47]\n",
      " [ 32 110]]\n"
     ]
    }
   ],
   "source": [
    "\n",
    "# para multiplicar matrices uso np.dot\n",
    "\n",
    "\n",
    "a = np.array([[1, 2, 3], [4, 5, 6]])\n",
    "b = np.array([[1, 7], [2, 2], [3, 12]])\n",
    "\n",
    "print(np.dot(a,b))\n"
   ]
  },
  {
   "cell_type": "markdown",
   "id": "6b2d565b",
   "metadata": {},
   "source": [
    "### indexado\n"
   ]
  },
  {
   "cell_type": "code",
   "execution_count": 4,
   "id": "9fcc1d46",
   "metadata": {},
   "outputs": [],
   "source": [
    "d = np.array([[1,2],[3,4]])"
   ]
  },
  {
   "cell_type": "code",
   "execution_count": 5,
   "id": "4c681df0",
   "metadata": {},
   "outputs": [
    {
     "data": {
      "text/plain": [
       "(2, 2)"
      ]
     },
     "execution_count": 5,
     "metadata": {},
     "output_type": "execute_result"
    }
   ],
   "source": [
    "d.shape"
   ]
  },
  {
   "cell_type": "code",
   "execution_count": 7,
   "id": "a47ecb1d",
   "metadata": {},
   "outputs": [
    {
     "data": {
      "text/plain": [
       "array([[1, 2],\n",
       "       [3, 4]])"
      ]
     },
     "execution_count": 7,
     "metadata": {},
     "output_type": "execute_result"
    }
   ],
   "source": [
    "d"
   ]
  },
  {
   "cell_type": "code",
   "execution_count": 8,
   "id": "78b6a01a",
   "metadata": {},
   "outputs": [
    {
     "data": {
      "text/plain": [
       "array([1, 3])"
      ]
     },
     "execution_count": 8,
     "metadata": {},
     "output_type": "execute_result"
    }
   ],
   "source": [
    "d[:,0] # primer columna"
   ]
  },
  {
   "cell_type": "code",
   "execution_count": 9,
   "id": "13573d8b",
   "metadata": {},
   "outputs": [
    {
     "data": {
      "text/plain": [
       "(2,)"
      ]
     },
     "execution_count": 9,
     "metadata": {},
     "output_type": "execute_result"
    }
   ],
   "source": [
    "d[:,1].shape\n"
   ]
  },
  {
   "cell_type": "code",
   "execution_count": 10,
   "id": "3bd523fa",
   "metadata": {},
   "outputs": [
    {
     "data": {
      "text/plain": [
       "array([2, 4])"
      ]
     },
     "execution_count": 10,
     "metadata": {},
     "output_type": "execute_result"
    }
   ],
   "source": [
    "d[:,1]"
   ]
  },
  {
   "cell_type": "code",
   "execution_count": 11,
   "id": "d4328bcb",
   "metadata": {},
   "outputs": [
    {
     "data": {
      "text/plain": [
       "array([3, 4])"
      ]
     },
     "execution_count": 11,
     "metadata": {},
     "output_type": "execute_result"
    }
   ],
   "source": [
    "d[1,:] # segunda fila"
   ]
  },
  {
   "cell_type": "code",
   "execution_count": 1,
   "id": "35958dc8",
   "metadata": {},
   "outputs": [
    {
     "data": {
      "image/png": "[encoded data removed]",
      "text/plain": [
       "<Figure size 640x480 with 1 Axes>"
      ]
     },
     "metadata": {},
     "output_type": "display_data"
    }
   ],
   "source": [
    "\n",
    "\n",
    "\n",
    "# subplot 3D de arreglo de 4 dimensiones\n",
    "\n",
    "import numpy as np\n",
    "import matplotlib.pyplot as plt\n",
    "from mpl_toolkits.mplot3d import Axes3D\n",
    "\n",
    "arr = np.random.rand(2, 3, 4, 5) # Arreglo de 4 dimensiones con números aleatorios\n",
    "\n",
    "fig = plt.figure()\n",
    "ax = fig.add_subplot(111, projection='3d')\n",
    "\n",
    "x, y, z = np.indices((4, 5, 3))\n",
    "c = arr[0, :, :, :].ravel()\n",
    "ax.scatter(x.ravel(), y.ravel(), z.ravel(), c=c)\n",
    "plt.show()\n",
    "\n",
    "\n"
   ]
  },
  {
   "cell_type": "code",
   "execution_count": null,
   "id": "4a05cd6c",
   "metadata": {},
   "outputs": [],
   "source": []
  }
 ],
 "metadata": {
  "kernelspec": {
   "display_name": "Python 3 (ipykernel)",
   "language": "python",
   "name": "python3"
  },
  "language_info": {
   "codemirror_mode": {
    "name": "ipython",
    "version": 3
   },
   "file_extension": ".py",
   "mimetype": "text/x-python",
   "name": "python",
   "nbconvert_exporter": "python",
   "pygments_lexer": "ipython3",
   "version": "3.10.6"
  }
 },
 "nbformat": 4,
 "nbformat_minor": 5
}
